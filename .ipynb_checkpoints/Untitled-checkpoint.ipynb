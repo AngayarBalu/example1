{
 "cells": [
  {
   "cell_type": "code",
   "execution_count": 1,
   "metadata": {},
   "outputs": [],
   "source": [
    "from flask import Flask, request, render_template,jsonify,redirect,make_response\n",
    "from flask_mail import Mail\n",
    "import pymongo\n",
    "from bson import json_util\n",
    "import json\n",
    "from bson.objectid import ObjectId\n",
    "import time\n",
    "import os\n",
    "\n",
    "from Crypto.PublicKey import RSA\n",
    "from Crypto.Cipher import PKCS1_OAEP\n",
    "from Crypto.Random import get_random_bytes\n",
    "import gridfs\n",
    "import datetime\n",
    "import werkzeug\n",
    "from flask_cors import CORS, cross_origin\n",
    "import threading\n",
    "# from punctuator import Punctuator  \n",
    "# p = Punctuator('E:/Model/Demo-Europarl-EN.pcl')\n"
   ]
  },
  {
   "cell_type": "code",
   "execution_count": 2,
   "metadata": {},
   "outputs": [],
   "source": [
    "app = Flask(__name__)\n",
    "mail = Mail(app)\n",
    "cors = CORS(app)\n",
    "app.config['CORS_HEADERS'] = 'Content-Type'\n",
    "myclient = pymongo.MongoClient(\"mongodb://localhost:27017/\")\n",
    "\n",
    "UPLOAD_FOLDER = 'E:/EduScribe-content_management/Upload'\n",
    "app.config['UPLOAD_EXTENSIONS'] = ['.jpg', '.png', '.pdf', '.docx']\n",
    "app.config['MAX_CONTENT_LENGTH'] = 25*1000000 # 25 MB Limit\n",
    "app.config['UPLOAD_FOLDER'] = UPLOAD_FOLDER\n",
    "\n",
    "# RSA 4096 bits encryption with e=65537\n",
    "\n",
    "pub_key_file = open('public_key.pem','r')\n",
    "pvt_key_file = open('private_key.pem','r')\n",
    "pubkey = RSA.importKey(pub_key_file.read())\n",
    "pvtkey = RSA.importKey(pvt_key_file.read())\n",
    "encryptor = PKCS1_OAEP.new(pubkey)\n",
    "decryptor = PKCS1_OAEP.new(pvtkey)\n",
    "\n",
    "def decryption(encrypted_message):\n",
    "    return decryptor.decrypt(encrypted_message).decode(\"utf-8\")\n",
    "\n",
    "def encryption(plain_message):\n",
    "    return encryptor.encrypt(bytes(plain_message,'utf-8'))"
   ]
  },
  {
   "cell_type": "code",
   "execution_count": 3,
   "metadata": {},
   "outputs": [],
   "source": [
    "import smtplib\n",
    "from smtplib import SMTP       \n",
    "\n",
    "from email import encoders\n",
    "from email.message import Message\n",
    "from email.mime.audio import MIMEAudio\n",
    "from email.mime.base import MIMEBase\n",
    "from email.mime.image import MIMEImage\n",
    "from email.mime.multipart import MIMEMultipart\n",
    "from email.mime.text import MIMEText"
   ]
  },
  {
   "cell_type": "code",
   "execution_count": 4,
   "metadata": {},
   "outputs": [],
   "source": [
    "@app.route('/getNameId',methods=[\"GET\", \"POST\"])\n",
    "def get_name_id():\n",
    "    db = myclient[\"accounts\"]\n",
    "    collection = db[\"student\"]\n",
    "    if request.method == 'POST':\n",
    "        email = request.form['email']\n",
    "        db_response = collection.find_one({\"email\":email},{\"_id\":0,\"encrypted_pwd\":0,\"exam_attending\":0})\n",
    "        if db_response != None:\n",
    "            name = db_response[\"name\"]\n",
    "            regno = db_response[\"regno\"]\n",
    "            response_string = reset_password(email,name,regno)\n",
    "            return response_string\n",
    "    return json.dumps({\"status\": \"user not found\",\"response\": \"User not found\"})"
   ]
  },
  {
   "cell_type": "code",
   "execution_count": 5,
   "metadata": {},
   "outputs": [],
   "source": [
    "def reset_password(email,name,regno):\n",
    "    message = MIMEMultipart()\n",
    "    \n",
    "    part1 = MIMEText('Dear '+name+\" !\\n\"+\"A password reset has been requested for Register Number\"+regno+\".\\nPlease click the below link to verify your identity and set a new password for your account.\\n\",'plain')\n",
    "    part2 = MIMEText(u'<a href=\"www.google.com\">Click here to reset your password</a>','html')\n",
    "    part3 = MIMEText('\\n\\nIf you did not request this password reset, please disregard this email.\\nWarm Regards and thanks,\\nJakstech Team,\\nJakstech Solutions.','plain')\n",
    "    message.attach(part1)\n",
    "    message.attach(part2)\n",
    "    message.attach(part3)\n",
    "    \n",
    "\n",
    "    try:\n",
    "        sender = 'angayarbaluu@gmail.com'\n",
    "        receiver = email\n",
    "        \n",
    "        message['From'] = 'Jakstech Team <sender>'\n",
    "        message['To'] = name +'<'+email+'>'\n",
    "        message['Cc'] = 'Receiver2 Name <>'\n",
    "        message['Subject'] = 'Eduscribe Account Reset Password'\n",
    "        msg_full = message.as_string()\n",
    "        smtplib.SMTP_SSL(\"smtp.gmail.com\", 465)\n",
    "        smtpObj = smtplib.SMTP(host='smtp.gmail.com', port=587)\n",
    "        smtpObj.ehlo()\n",
    "        smtpObj.starttls()\n",
    "        smtpObj.ehlo()\n",
    "        smtpObj.login('angayarbaluu@gmail.com','angayarbaluu12')\n",
    "        smtpObj.sendmail(sender, receiver, msg_full)\n",
    "\n",
    "        smtpObj.quit()\n",
    "        print (\"Successfully sent email\")\n",
    "        return json.dumps({\"status\": \"success\",\"response\": \"email sent successfully\"})\n",
    "    except smtplib.SMTPException as error:\n",
    "        print (str(error))\n",
    "        print (\"Error: unable to send email\")"
   ]
  },
  {
   "cell_type": "code",
   "execution_count": 6,
   "metadata": {},
   "outputs": [
    {
     "name": "stdout",
     "output_type": "stream",
     "text": [
      " * Serving Flask app \"__main__\" (lazy loading)\n",
      " * Environment: production\n",
      "   WARNING: This is a development server. Do not use it in a production deployment.\n",
      "   Use a production WSGI server instead.\n",
      " * Debug mode: off\n"
     ]
    },
    {
     "name": "stderr",
     "output_type": "stream",
     "text": [
      " * Running on http://127.0.0.1:5487/ (Press CTRL+C to quit)\n",
      "127.0.0.1 - - [16/Oct/2021 16:04:43] \"\u001b[37mPOST /getNameId HTTP/1.1\u001b[0m\" 200 -\n"
     ]
    },
    {
     "name": "stdout",
     "output_type": "stream",
     "text": [
      "Successfully sent email\n"
     ]
    },
    {
     "name": "stderr",
     "output_type": "stream",
     "text": [
      "127.0.0.1 - - [16/Oct/2021 16:05:23] \"\u001b[37mPOST /getNameId HTTP/1.1\u001b[0m\" 200 -\n"
     ]
    },
    {
     "name": "stdout",
     "output_type": "stream",
     "text": [
      "Successfully sent email\n"
     ]
    },
    {
     "name": "stderr",
     "output_type": "stream",
     "text": [
      "127.0.0.1 - - [16/Oct/2021 16:11:46] \"\u001b[37mPOST /getNameId HTTP/1.1\u001b[0m\" 200 -\n"
     ]
    },
    {
     "name": "stdout",
     "output_type": "stream",
     "text": [
      "Successfully sent email\n"
     ]
    }
   ],
   "source": [
    "if __name__ == '__main__':\n",
    "    app.run(host='127.0.0.1',port=5487,threaded=True)"
   ]
  }
 ],
 "metadata": {
  "kernelspec": {
   "display_name": "Python 3",
   "language": "python",
   "name": "python3"
  },
  "language_info": {
   "codemirror_mode": {
    "name": "ipython",
    "version": 3
   },
   "file_extension": ".py",
   "mimetype": "text/x-python",
   "name": "python",
   "nbconvert_exporter": "python",
   "pygments_lexer": "ipython3",
   "version": "3.7.9"
  }
 },
 "nbformat": 4,
 "nbformat_minor": 4
}
