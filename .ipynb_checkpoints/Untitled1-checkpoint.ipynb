{
 "cells": [
  {
   "cell_type": "code",
   "execution_count": null,
   "metadata": {},
   "outputs": [
    {
     "name": "stdout",
     "output_type": "stream",
     "text": [
      " * Serving Flask app \"__main__\" (lazy loading)\n",
      " * Environment: production\n",
      "   WARNING: This is a development server. Do not use it in a production deployment.\n",
      "   Use a production WSGI server instead.\n",
      " * Debug mode: off\n"
     ]
    },
    {
     "name": "stderr",
     "output_type": "stream",
     "text": [
      " * Running on http://127.0.0.1:5000/ (Press CTRL+C to quit)\n"
     ]
    }
   ],
   "source": [
    "from flask import Flask\n",
    "from flask_mail import Mail\n",
    "\n",
    "app = Flask(__name__)\n",
    "\n",
    "app.config['MAIL_SERVER']='localhost'\n",
    "app.config['MAIL_PORT'] = 25\n",
    "app.config['MAIL_USERNAME'] = None\n",
    "app.config['MAIL_PASSWORD'] = None\n",
    "app.config['MAIL_USE_TLS'] = True\n",
    "app.config['MAIL_USE_SSL'] = False\n",
    "mail = Mail(app)\n",
    "\n",
    "@app.route(\"/mymail\")\n",
    "def index():\n",
    "    msg = Message('Hello from the other side!', sender =   'baluangayar@gmail.com', recipients = ['shalakiyadhanasekaran@gmail.com'])\n",
    "    msg.body = \"Hey Paul, sending you this email from my Flask app, lmk if it works\"\n",
    "    mail.send(msg)\n",
    "    return \"Message sent!\"\n",
    "\n",
    "if __name__ == '__main__':\n",
    "    app.run(host='127.0.0.1',port=5487,threaded=True)"
   ]
  }
 ],
 "metadata": {
  "kernelspec": {
   "display_name": "Python 3",
   "language": "python",
   "name": "python3"
  },
  "language_info": {
   "codemirror_mode": {
    "name": "ipython",
    "version": 3
   },
   "file_extension": ".py",
   "mimetype": "text/x-python",
   "name": "python",
   "nbconvert_exporter": "python",
   "pygments_lexer": "ipython3",
   "version": "3.7.9"
  }
 },
 "nbformat": 4,
 "nbformat_minor": 4
}
