{
 "cells": [
  {
   "cell_type": "code",
   "execution_count": 1,
   "metadata": {},
   "outputs": [],
   "source": [
    "from flask import Flask, request, render_template, make_response , jsonify\n",
    "import pymongo\n",
    "import json\n",
    "from json import dumps\n",
    "import simplejson as json\n",
    "from bson import json_util\n",
    "from bson.objectid import ObjectId\n",
    "from bson import ObjectId\n",
    "from Crypto.PublicKey import RSA\n",
    "from Crypto.Cipher import PKCS1_OAEP\n",
    "from Crypto.Random import get_random_bytes\n",
    "import gridfs\n",
    "import datetime\n",
    "import werkzeug\n",
    "from tkinter import *\n",
    "import tkinter as tk\n",
    "from tika import parser\n",
    "import operator\n",
    "from urllib.request import urlopen\n",
    "from pprint import pprint\n",
    "from bs4 import BeautifulSoup\n",
    "import json\n",
    "from flask_cors import CORS, cross_origin\n",
    "import os\n"
   ]
  },
  {
   "cell_type": "markdown",
   "metadata": {},
   "source": [
    "# Initialization"
   ]
  },
  {
   "cell_type": "code",
   "execution_count": 2,
   "metadata": {},
   "outputs": [],
   "source": [
    "app = Flask(__name__)\n",
    "cors = CORS(app)\n",
    "app.config['CORS_HEADERS'] = 'Content-Type'\n",
    "myclient = pymongo.MongoClient(\"mongodb://localhost:27017/\")\n",
    "\n",
    "# RSA 4096 bits encryption with e=65537\n",
    "\n",
    "UPLOAD_FOLDER = r'F:\\Book-guide web form\\Upload'\n",
    "app.config['UPLOAD_EXTENSIONS'] = ['.jpg', '.png', '.pdf', '.docx']\n",
    "app.config['MAX_CONTENT_LENGTH'] = 25*1000000 # 25 MB Limit\n",
    "app.config['UPLOAD_FOLDER'] = UPLOAD_FOLDER\n",
    "mng_client = pymongo.MongoClient('localhost', 27017)\n",
    "\n",
    "pub_key_file = open('public_key.pem','r')\n",
    "pvt_key_file = open('private_key.pem','r')\n",
    "pubkey = RSA.importKey(pub_key_file.read())\n",
    "pvtkey = RSA.importKey(pvt_key_file.read())\n",
    "encryptor = PKCS1_OAEP.new(pubkey)\n",
    "decryptor = PKCS1_OAEP.new(pvtkey)\n",
    "\n",
    "def decryption(encrypted_message):\n",
    "    return decryptor.decrypt(encrypted_message).decode(\"utf-8\")\n",
    "\n",
    "def encryption(plain_message):\n",
    "    return encryptor.encrypt(bytes(plain_message,'utf-8'))"
   ]
  },
  {
   "cell_type": "markdown",
   "metadata": {},
   "source": [
    "# Test Area"
   ]
  },
  {
   "cell_type": "code",
   "execution_count": 3,
   "metadata": {},
   "outputs": [],
   "source": [
    "@app.route('/student/pdf', methods = ['POST'])\n",
    "def file_upload():\n",
    "    if request.method== 'POST':\n",
    "        files_get=request.files['pdf']\n",
    "        filename = werkzeug.utils.secure_filename(files_get.filename)\n",
    "        files_get.save(filename)\n",
    "        print(files_get)\n",
    "        response_string = {\"status\": \"success\"}\n",
    "    else:\n",
    "        response_string = {\"status\": \"failed\"}\n",
    "    return json.dumps(response_string, indent=4)"
   ]
  },
  {
   "cell_type": "markdown",
   "metadata": {},
   "source": [
    "# Welcome API"
   ]
  },
  {
   "cell_type": "code",
   "execution_count": 4,
   "metadata": {},
   "outputs": [],
   "source": [
    "@app.route('/')\n",
    "def welcome():\n",
    "    return \"<b>Welcome to Jakstech API Service!</b>\""
   ]
  },
  {
   "cell_type": "markdown",
   "metadata": {},
   "source": [
    "# Admin - registration"
   ]
  },
  {
   "cell_type": "code",
   "execution_count": null,
   "metadata": {},
   "outputs": [],
   "source": [
    "@app.route('/admin/registration',methods=[\"POST\"])\n",
    "def admin_registration():\n",
    "#   declaration space\n",
    "    db = myclient[\"accounts\"]\n",
    "    collection = db[\"admin\"]\n",
    "    data = {}\n",
    "    response_string = {}\n",
    "    \n",
    "    if request.method == 'POST':\n",
    "        data = {\n",
    "            \"name\": request.form['name'],\n",
    "            \"dob\": request.form['dob'],\n",
    "            \"sex\": request.form['sex'],\n",
    "            \"admin_id\": request.form['admin_id'], \n",
    "            \"schoolname\": request.form['schoolname'],\n",
    "            \"aadhar\": request.form['aadhar'], \n",
    "            \"mobile\": request.form['mobile'],\n",
    "            \"password\": request.form['password'],  \n",
    "#             \"encrypted_pwd\": encryptor.encrypt(bytes(request.form['password'],'utf-8')),    \n",
    "            \"createdAt\": str(datetime.datetime.now()).split(\" \")[0],                        #YYYY-MM-DD\n",
    "            \"loggedIn\": False,\n",
    "            \"address\": request.form['address'],\n",
    "            \"pincode\": request.form['pincode']\n",
    "        }\n",
    "        \n",
    "        db_check_user = collection.find_one({\"admin_id\":data[\"admin_id\"]}) #check if user account exists\n",
    "        if not(db_check_user):\n",
    "            db_response = collection.insert_one(data)\n",
    "            \n",
    "            if db_response.acknowledged == True:\n",
    "                response_string = {\"status\": \"success\",\"response\":\"ok\"}\n",
    "            else:\n",
    "                response_string = {\"status\":\"failed\",\"response\":\"database error. request not acknowledged\"}\n",
    "        \n",
    "        else:\n",
    "            response_string = {\"status\": \"failed\",\"response\": \"User account already exists\"}\n",
    "        \n",
    "    return json.dumps(response_string)"
   ]
  },
  {
   "cell_type": "markdown",
   "metadata": {},
   "source": [
    "# Admin - login"
   ]
  },
  {
   "cell_type": "code",
   "execution_count": null,
   "metadata": {},
   "outputs": [],
   "source": [
    "@app.route('/admin/login',methods=[\"POST\"])\n",
    "def admin_login():\n",
    "    db = myclient[\"accounts\"]\n",
    "    collection = db[\"admin\"]\n",
    "    if request.method == 'POST':\n",
    "        adminId = request.form['admin_id']\n",
    "        passw = request.form['password']\n",
    "#         passw = decryption(request.form['password'])\n",
    "        db_response = collection.find_one({\"admin_id\":adminId})\n",
    "        if db_response != None:\n",
    "            if db_response['loggedIn'] != True:\n",
    "                if passw == db_response['password']:\n",
    "                    update_result = collection.update_one({\"_id\":ObjectId(db_response['_id']),\"loggedIn\": False},{\"$set\":{\"loggedIn\":True}})\n",
    "                    if update_result.acknowledged == True and update_result.modified_count == 1:\n",
    "                        response_string = {\"status\": \"success\",\"response\":\"ok\"}\n",
    "                    else:\n",
    "                        response_string = {\"status\":\"failed\",\"response\":\"database error\"}\n",
    "                    return json.dumps(response_string, indent=4)\n",
    "                else:\n",
    "                    return json.dumps({\"status\": \"failed\",\"response\":\"wrong password\"})\n",
    "            else:\n",
    "                return json.dumps({\"status\": \"failed\",\"response\": \"You are already logged in on another device\"})\n",
    "        else:\n",
    "            return json.dumps({\"status\": \"failed\",\"response\": \"User not found\"})"
   ]
  },
  {
   "cell_type": "code",
   "execution_count": null,
   "metadata": {},
   "outputs": [],
   "source": []
  },
  {
   "cell_type": "markdown",
   "metadata": {},
   "source": [
    "# Student Registration"
   ]
  },
  {
   "cell_type": "code",
   "execution_count": 5,
   "metadata": {},
   "outputs": [],
   "source": [
    "@app.route('/admin-portal/student-registration',methods=[\"POST\"])\n",
    "def student_registration():\n",
    "#   declaration space\n",
    "    db = myclient[\"accounts\"]\n",
    "    collection = db[\"student\"]\n",
    "    collection_student = db[\"students_profile\"]\n",
    "    data = {}\n",
    "    dataAccount = {}\n",
    "    response_string = \"\"\n",
    "\n",
    "        \n",
    "    if request.method == 'POST':\n",
    "        dataAccount = {\n",
    "                \"name\": request.form['name'],\n",
    "                \"regno\": request.form['regno'],\n",
    "                \"password\": request.form['password'],\n",
    "#                 \"encrypted_pwd\": encryption(request.form['password']),\n",
    "                \"aadhar\": request.form['aadhar'],\n",
    "                \"schoolname\": request.form['schoolname'],\n",
    "                \"loggedIn\": False,\n",
    "                \"coursePointer\": \"none\",\n",
    "                \"subjectPointer\": \"none\",\n",
    "                \"chapterPointer\": \"none\",\n",
    "                \"raise_for_help\": \"no\",\n",
    "                \"question_paper_received\":\"False\",\n",
    "                \"teacherPointer\": None,\n",
    "                \"Exam Attending\" : None,\n",
    "                \"exam status\": \"None\",\n",
    "                \"dob\": request.form['dob'],          # MM-DD-YYYY\n",
    "                \"sex\": request.form['sex'],\n",
    "                \"mobile\": request.form['mobile'],\n",
    "                \"rollNumber\": \"none\",  # public exam number\n",
    "                \"address\": request.form['address'],  # string\n",
    "                \"pincode\": request.form['pincode'],  #int\n",
    "                \"class\": request.form['class'],\n",
    "                \"section\":request.form[\"section\"],\n",
    "                 \"isEnrolled\": False,# int\n",
    "                \"testScore\": {},\n",
    "                \"examScore\": {},\n",
    "                \"enrolledCourses\": {},\n",
    "                \"lastAccessed\": \"none\"\n",
    "            }\n",
    "        \n",
    "        db_check_user = collection.find_one(\n",
    "            {\n",
    "                \"regno\":dataAccount[\"regno\"],\n",
    "                \"name\":dataAccount[\"name\"]\n",
    "            }\n",
    "        ) #check if user account exists in student collection\n",
    "        \n",
    "        if not(db_check_user):\n",
    "            db_response = collection.insert_one(dataAccount)\n",
    "#             data = {\n",
    "# #                 \"parentId\": db_response.inserted_id,\n",
    "                \n",
    "#             }\n",
    "            \n",
    "#             db_response_account = collection_student.insert_one(data) #insert in students_profile collection\n",
    "            \n",
    "            if db_response.acknowledged == True:\n",
    "                response_string = {\"status\": \"success\",\"response\":\"ok\"}\n",
    "            else:\n",
    "                response_string = {\"status\":\"failed\",\"response\":\"database error. request not acknowledged\"}\n",
    "        \n",
    "        else:\n",
    "            response_string = {\"status\": \"failed\",\"response\": \"User account already exists\"}\n",
    "        \n",
    "    return json.dumps(response_string)"
   ]
  },
  {
   "cell_type": "markdown",
   "metadata": {},
   "source": [
    "# Admin Portal - delete individual student"
   ]
  },
  {
   "cell_type": "code",
   "execution_count": 6,
   "metadata": {},
   "outputs": [],
   "source": [
    "@app.route('/student/delete',methods=[\"POST\"])\n",
    "def student_delete():\n",
    "    db = myclient[\"accounts\"]\n",
    "    collection = db[\"student\"]\n",
    "    if request.method == 'POST':\n",
    "        \n",
    "        regno = request.form['regno']\n",
    "        print(regno)\n",
    "#         passw = request.form['password']\n",
    "        \n",
    "        db_response = collection.find_one({\"regno\": regno})\n",
    "        \n",
    "        print(db_response)\n",
    "        \n",
    "        if db_response != None:\n",
    "            \n",
    "#             if passw == db_response[\"password\"]:\n",
    "            \n",
    "                delete_student = collection.delete_one({\"_id\": ObjectId(db_response['_id'])})\n",
    "\n",
    "                return json.dumps({\"status\": \"success\", \"response\": \"Student profile deletd for the regno \"+regno}) \n",
    "            \n",
    "\n",
    "        else:\n",
    "\n",
    "            response_string = {\"status\": \"failed\",\"response\": \"User not found\"}\n",
    "                             \n",
    "      "
   ]
  },
  {
   "cell_type": "markdown",
   "metadata": {},
   "source": [
    "# Admin Portal - delete all student based on class and section"
   ]
  },
  {
   "cell_type": "code",
   "execution_count": 7,
   "metadata": {},
   "outputs": [],
   "source": [
    "@app.route('/student/delete_All',methods=[\"POST\"])\n",
    "def student_delete_All():\n",
    "    db = myclient[\"accounts\"]\n",
    "    \n",
    "    collection = db[\"student\"]\n",
    "    \n",
    "    if request.method == 'POST':\n",
    "        \n",
    "        std = request.form[\"class\"]\n",
    "        \n",
    "        sec = request.form[\"section\"]\n",
    "        \n",
    "        db_response = collection.find({\"class\":std,\"section\":sec},{\"_id\":0})\n",
    "        \n",
    "        teachers_doc = []\n",
    "            \n",
    "        for doc in db_response:\n",
    "            teachers_doc.append(doc)\n",
    "            \n",
    "        \n",
    "        if teachers_doc != []:\n",
    "            \n",
    "                delete_students = collection.delete_many({\"class\":std,\"section\":sec})\n",
    "   \n",
    "\n",
    "                response_string = {\"status\": \"success\",\"response\":\"All students Records are deleted \"}\n",
    "                    \n",
    "                \n",
    "                return json.dumps(response_string, indent=4)\n",
    "          \n",
    "        else:\n",
    "                return json.dumps({\"status\": \"failed\",\"response\": \"User not found\"})"
   ]
  },
  {
   "cell_type": "markdown",
   "metadata": {},
   "source": [
    "# Teacher registration"
   ]
  },
  {
   "cell_type": "code",
   "execution_count": 8,
   "metadata": {},
   "outputs": [],
   "source": [
    "@app.route('/teacher/registration',methods=[\"POST\"])\n",
    "def teacher_registration():\n",
    "#   declaration space\n",
    "    db = myclient[\"accounts\"]\n",
    "    collection = db[\"teacher\"]\n",
    "    data = {}\n",
    "    response_string = {}\n",
    "    if request.method == 'POST':\n",
    "        data = {\n",
    "            \"name\": request.form['name'],\n",
    "            \"aadhar\": request.form['aadhar'],\n",
    "            \"dob\": request.form['dob'],\n",
    "            \"sex\": request.form['sex'],\n",
    "            \"regId\": request.form['regId'],\n",
    "            \"mobile\": request.form['mobile'],\n",
    "            \"password\": request.form['password'],  \n",
    "#             \"encrypted_pwd\": encryption(request.form['password']),    \n",
    "            \"createdAt\": str(datetime.datetime.now()).split(\" \")[0], #YYYY-MM-DD\n",
    "            \"enrolledCourses\": {},\n",
    "            \"coursePointer\": \"none\",\n",
    "            \"createdTests\": {},\n",
    "            \"isExaminer\": False,\n",
    "            \"loggedIn\": False,\n",
    "            \"pincode\": request.form['pincode'] \n",
    "        }\n",
    "        \n",
    "        db_check_user = collection.find_one({\"regId\":data[\"regId\"],\"dob\":data[\"dob\"]}) #check if user account exists\n",
    "        \n",
    "        if not(db_check_user):\n",
    "            db_response = collection.insert_one(data)\n",
    "            \n",
    "            if db_response.acknowledged == True:\n",
    "                response_string = {\"status\": \"success\",\"response\":\"ok\"}\n",
    "            else:\n",
    "                response_string = {\"status\":\"failed\",\"response\":\"database error. request not acknowledged\"}\n",
    "        \n",
    "        else:\n",
    "            response_string = {\"status\": \"failed\",\"response\": \"User account already exists\"}\n",
    "        \n",
    "    return json.dumps(response_string)"
   ]
  },
  {
   "cell_type": "markdown",
   "metadata": {},
   "source": [
    "# Teacher - login"
   ]
  },
  {
   "cell_type": "code",
   "execution_count": 9,
   "metadata": {},
   "outputs": [],
   "source": [
    "@app.route('/teacher/login',methods=[\"POST\"])\n",
    "def teacher_login():\n",
    "    db = myclient[\"accounts\"]\n",
    "    collection = db[\"teacher\"]\n",
    "    if request.method == 'POST':\n",
    "        regId = request.form['regId']\n",
    "        passw = request.form['password']\n",
    "        db_response = collection.find_one({\"regId\": regId,\"password\":passw})\n",
    "        if db_response != None:\n",
    "            if db_response['loggedIn'] != True:\n",
    "                if passw == db_response['password']:\n",
    "                    update_result = collection.update_one({\"_id\":ObjectId(db_response['_id']),\"loggedIn\": False},{\"$set\":{\"loggedIn\":True}})\n",
    "                    if update_result.acknowledged == True and update_result.modified_count == 1:\n",
    "                        response_string = {\"status\": \"success\",\"response\":\"ok\"}\n",
    "                    else:\n",
    "                        response_string = {\"status\":\"failed\",\"response\":\"database error\"}\n",
    "                    return json.dumps(response_string, indent=4)\n",
    "                else:\n",
    "                    return json.dumps({\"status\": \"failed\",\"response\":\"wrong password\"})\n",
    "            else:\n",
    "                return json.dumps({\"status\": \"failed\",\"response\": \"You are logged in on another device\"})\n",
    "        else:\n",
    "            return json.dumps({\"status\": \"failed\",\"response\": \"User not found\"})"
   ]
  },
  {
   "cell_type": "code",
   "execution_count": 10,
   "metadata": {},
   "outputs": [],
   "source": [
    "@app.route('/teacher/reset-password',methods=[\"POST\"])\n",
    "def admin_portal_teacher_reset_password():\n",
    "    db = myclient[\"accounts\"]\n",
    "    collection = db[\"teacher\"]\n",
    "    if request.method == 'POST':\n",
    "        regId = request.form['regId']\n",
    "        aadhar = request.form['aadhar']\n",
    "        password = request.form['password']\n",
    "        db_response = collection.find_one({\"regId\": regId})\n",
    "        if db_response != None:\n",
    "            if aadhar == db_response['aadhar']:\n",
    "                update_result = collection.update_one({\"_id\":ObjectId(db_response['_id'])},{\"$set\":{\"password\":password}})\n",
    "                if update_result.acknowledged:\n",
    "                    return json.dumps({\"status\": \"success\",\"response\": \"ok\"})\n",
    "                return json.dumps({\"status\": \"failed\",\"response\": \"database error\"})\n",
    "            else:\n",
    "                return json.dumps({\"status\": \"failed\",\"response\": \"aadhar didn't match\"})\n",
    "        else:\n",
    "            return json.dumps({\"status\": \"user not found\",\"response\": \"User not found\"})"
   ]
  },
  {
   "cell_type": "markdown",
   "metadata": {},
   "source": [
    "# Teacher Logout"
   ]
  },
  {
   "cell_type": "code",
   "execution_count": 11,
   "metadata": {},
   "outputs": [],
   "source": [
    "@app.route('/teacher/logout',methods=[\"POST\"])\n",
    "def admin_portal_teacher_logout():\n",
    "    db = myclient[\"accounts\"]\n",
    "    collection = db[\"teacher\"]\n",
    "    if request.method == 'POST':\n",
    "        regId = request.form['regId']\n",
    "        passw = request.form['password']\n",
    "        db_response = collection.find_one({\"regId\": regId,\"password\":passw})\n",
    "        if db_response != None:\n",
    "            if db_response['loggedIn'] != False:\n",
    "               \n",
    "                update_result = collection.update_one({\"_id\":ObjectId(db_response['_id']),\"loggedIn\": True},{\"$set\":{\"loggedIn\":False}})\n",
    "                if update_result.acknowledged == False and update_result.modified_count == 1:\n",
    "                    response_string = {\"status\": \"logout success\",\"response\":\"ok\"}\n",
    "\n",
    "                else:\n",
    "                    response_string = {\"status\":\"failed\",\"response\":\"database error\"}\n",
    "                return json.dumps(response_string, indent=4)\n",
    "               \n",
    "            else:\n",
    "                return json.dumps({\"status\": \"failed\",\"response\": \"You are logged in on another device\"})\n",
    "        else:\n",
    "            return json.dumps({\"status\": \"failed\",\"response\": \"User not found\"})"
   ]
  },
  {
   "cell_type": "markdown",
   "metadata": {},
   "source": [
    "# Examiner - Registration"
   ]
  },
  {
   "cell_type": "code",
   "execution_count": 12,
   "metadata": {},
   "outputs": [],
   "source": [
    "@app.route('/examiner/registration',methods=[\"POST\"])\n",
    "def examiner_registration():\n",
    "#   declaration space\n",
    "    db = myclient[\"accounts\"]\n",
    "    collection = db[\"examiner\"]\n",
    "    data = {}\n",
    "    response_string = {}\n",
    "    if request.method == 'POST':\n",
    "        data = {\n",
    "            \"name\": request.form['name'],\n",
    "            \"hallno\":request.form['hallno'],\n",
    "            \"aadhar\": request.form['aadhar'],\n",
    "            \"dob\": request.form['dob'],\n",
    "            \"sex\": request.form['sex'],\n",
    "            \"address\": request.form['address'],\n",
    "            \"examiner_id\": request.form['examiner_id'],\n",
    "            \"mobile\": request.form['mobile'],\n",
    "            \"password\": request.form['password'],  \n",
    "#             \"encrypted_pwd\": encryption(request.form['password']),    \n",
    "            \"createdAt\": str(datetime.datetime.now()).split(\" \")[0], #YYYY-MM-DD\n",
    "            \"loggedIn\": False,\n",
    "            \"pincode\": request.form['pincode'] \n",
    "        }\n",
    "        \n",
    "        db_check_user = collection.find_one({\"examiner_id\":data[\"examiner_id\"],\"dob\":data[\"dob\"]}) #check if user account exists\n",
    "        \n",
    "        if not(db_check_user):\n",
    "            db_response = collection.insert_one(data)\n",
    "            \n",
    "            if db_response.acknowledged == True:\n",
    "                response_string = {\"status\": \"success\",\"response\":\"ok\"}\n",
    "            else:\n",
    "                response_string = {\"status\":\"failed\",\"response\":\"database error. request not acknowledged\"}\n",
    "        \n",
    "        else:\n",
    "            response_string = {\"status\": \"failed\",\"response\": \"User account already exists\"}\n",
    "        \n",
    "    return json.dumps(response_string)"
   ]
  },
  {
   "cell_type": "markdown",
   "metadata": {},
   "source": [
    "# Examiner login"
   ]
  },
  {
   "cell_type": "code",
   "execution_count": 13,
   "metadata": {},
   "outputs": [],
   "source": [
    "@app.route('/admin-portal/examiner-login',methods=[\"POST\"])\n",
    "def admin_portal_examiner_login():\n",
    "    db = myclient[\"accounts\"]\n",
    "    collection = db[\"examiner\"]\n",
    "    if request.method == 'POST':\n",
    "        examiner_id = request.form['examiner_id']\n",
    "        passw = request.form['password']\n",
    "        db_response = collection.find_one({\"examiner_id\": examiner_id,\"password\":passw})\n",
    "        if db_response != None:\n",
    "            if db_response['loggedIn'] != True:\n",
    "                if passw == db_response['password']:\n",
    "                    update_result = collection.update_one({\"_id\":ObjectId(db_response['_id']),\"loggedIn\": False},{\"$set\":{\"loggedIn\":True}})\n",
    "                    if update_result.acknowledged == True and update_result.modified_count == 1:\n",
    "                        response_string = {\"status\": \"success\",\"response\":\"ok\"}\n",
    "                        \n",
    "                    else:\n",
    "                        response_string = {\"status\":\"failed\",\"response\":\"database error\"}\n",
    "                    return json.dumps(response_string, indent=4)\n",
    "                else:\n",
    "                    return json.dumps({\"status\": \"failed\",\"response\":\"wrong password\"})\n",
    "                \n",
    "            elif db_response['loggedIn'] == True:\n",
    "                response_string = {\"status\": \"successful\",\"response\":\"ok\"}\n",
    "                return json.dumps(response_string, indent=4)\n",
    "        else:\n",
    "            return json.dumps({\"status\": \"failed\",\"response\": \"User not found\"})"
   ]
  },
  {
   "cell_type": "markdown",
   "metadata": {},
   "source": [
    "# Examiner - reset password"
   ]
  },
  {
   "cell_type": "code",
   "execution_count": 14,
   "metadata": {},
   "outputs": [],
   "source": [
    "@app.route('/admin-portal/examiner-reset-password',methods=[\"POST\"])\n",
    "def admin_portal_examiner_reset_password():\n",
    "    db = myclient[\"accounts\"]\n",
    "    collection = db[\"examiner\"]\n",
    "    if request.method == 'POST':\n",
    "        examinerId = request.form['examiner_id']\n",
    "        aadhar = request.form['aadhar']\n",
    "        password = request.form['password']\n",
    "        db_response = collection.find_one({\"examiner_id\": examinerId})\n",
    "        if db_response != None:\n",
    "            if aadhar == db_response['aadhar']:\n",
    "                update_result = collection.update_one({\"_id\":ObjectId(db_response['_id'])},{\"$set\":{\"password\":password}})\n",
    "                if update_result.acknowledged:\n",
    "                    return json.dumps({\"status\": \"success\",\"response\": \"ok\"})\n",
    "                return json.dumps({\"status\": \"failed\",\"response\": \"database error\"})\n",
    "            else:\n",
    "                return json.dumps({\"status\": \"failed\",\"response\": \"aadhar didn't match\"})\n",
    "        else:\n",
    "            return json.dumps({\"status\": \"user not found\",\"response\": \"User not found\"})"
   ]
  },
  {
   "cell_type": "markdown",
   "metadata": {},
   "source": [
    "# Examiner - logout"
   ]
  },
  {
   "cell_type": "code",
   "execution_count": 15,
   "metadata": {},
   "outputs": [],
   "source": [
    "@app.route('/admin-portal/examiner-logout',methods=[\"POST\"])\n",
    "def admin_portal_examiner_logout():\n",
    "    db = myclient[\"accounts\"]\n",
    "    collection = db[\"examiner\"]\n",
    "    if request.method == 'POST':\n",
    "        examinerId = request.form['examiner_id']\n",
    "        passw = request.form['password']\n",
    "        db_response = collection.find_one({\"examiner_id\": examinerId,\"password\":passw})\n",
    "        if db_response != None:\n",
    "            if db_response['loggedIn'] != False:\n",
    "               \n",
    "                update_result = collection.update_one({\"_id\":ObjectId(db_response['_id']),\"loggedIn\": True},{\"$set\":{\"loggedIn\":False}})\n",
    "                if update_result.acknowledged == False and update_result.modified_count == 1:\n",
    "                    response_string = {\"status\": \"logout success\",\"response\":\"ok\"}\n",
    "\n",
    "                else:\n",
    "                    response_string = {\"status\":\"failed\",\"response\":\"database error\"}\n",
    "                return json.dumps(response_string, indent=4)\n",
    "               \n",
    "            else:\n",
    "                return json.dumps({\"status\": \"failed\",\"response\": \"You are logged in on another device\"})\n",
    "        else:\n",
    "            return json.dumps({\"status\": \"failed\",\"response\": \"User not found\"})"
   ]
  },
  {
   "cell_type": "markdown",
   "metadata": {},
   "source": [
    "# Admin portal - delete individual teacher"
   ]
  },
  {
   "cell_type": "code",
   "execution_count": 16,
   "metadata": {},
   "outputs": [],
   "source": [
    "@app.route('/teacher/delete',methods=[\"POST\"])\n",
    "def teacher_delete():\n",
    "    db = myclient[\"accounts\"]\n",
    "    collection = db[\"teacher\"]\n",
    "    if request.method == 'POST':\n",
    "        \n",
    "        regId = request.form['regId']\n",
    "        print(regId)\n",
    "#         passw = request.form['password']\n",
    "        \n",
    "        db_response = collection.find_one({\"regId\": regId})\n",
    "        \n",
    "        print(db_response)\n",
    "        \n",
    "        if db_response != None:\n",
    "            \n",
    "#             if passw == db_response[\"password\"]:\n",
    "            \n",
    "                delete_student = collection.delete_one({\"_id\": ObjectId(db_response['_id'])})\n",
    "\n",
    "                return json.dumps({\"status\": \"success\", \"response\": \"Teacher profile deletd for the regno \"+regId}) \n",
    "            \n",
    "\n",
    "        else:\n",
    "\n",
    "            response_string = {\"status\": \"failed\",\"response\": \"User not found\"}\n",
    "                             \n",
    "      "
   ]
  },
  {
   "cell_type": "markdown",
   "metadata": {},
   "source": [
    "# Admin portal - delete all teachers"
   ]
  },
  {
   "cell_type": "code",
   "execution_count": 17,
   "metadata": {},
   "outputs": [],
   "source": [
    "@app.route('/teacher/deleteAll',methods=[\"POST\"])\n",
    "def teacher_deleteAll():\n",
    "    db = myclient[\"accounts\"]\n",
    "    \n",
    "    collection = db[\"teacher\"]\n",
    "    \n",
    "    if request.method == 'POST':\n",
    "        \n",
    "        db_response = collection.find({})\n",
    "        \n",
    "        teachers_doc = []\n",
    "            \n",
    "        for doc in db_response:\n",
    "            teachers_doc.append(doc)\n",
    "            \n",
    "        \n",
    "        if teachers_doc != []:\n",
    "            \n",
    "                delete_teachers = collection.delete_many({})\n",
    "   \n",
    "\n",
    "                response_string = {\"status\": \"success\",\"response\":\"Teacher Records are deleted \"}\n",
    "                    \n",
    "                \n",
    "                return json.dumps(response_string, indent=4)\n",
    "          \n",
    "        else:\n",
    "                return json.dumps({\"status\": \"failed\",\"response\": \"User not found\"})"
   ]
  },
  {
   "cell_type": "markdown",
   "metadata": {},
   "source": [
    "# Admin portal - delete individual examiner"
   ]
  },
  {
   "cell_type": "code",
   "execution_count": 18,
   "metadata": {},
   "outputs": [],
   "source": [
    "@app.route('/examiner/delete',methods=[\"POST\"])\n",
    "def examiner_delete():\n",
    "    db = myclient[\"accounts\"]\n",
    "    collection = db[\"examiner\"]\n",
    "    if request.method == 'POST':\n",
    "        \n",
    "        examinerId = request.form['examiner_id']\n",
    "        \n",
    "        db_response = collection.find_one({\"examiner_id\": examinerId})\n",
    "\n",
    "        if db_response != None:\n",
    "                delete_student = collection.delete_one({\"_id\": ObjectId(db_response['_id'])})\n",
    "\n",
    "                return json.dumps({\"status\": \"success\", \"response\": \"Teacher profile deletd for the regno \"+examinerId}) \n",
    "            \n",
    "\n",
    "        else:\n",
    "\n",
    "            response_string = {\"status\": \"failed\",\"response\": \"User not found\"}\n",
    "                             \n",
    "      "
   ]
  },
  {
   "cell_type": "markdown",
   "metadata": {},
   "source": [
    "# Admin portal - delete all examiners"
   ]
  },
  {
   "cell_type": "code",
   "execution_count": 19,
   "metadata": {},
   "outputs": [],
   "source": [
    "@app.route('/examiner/deleteAll',methods=[\"POST\"])\n",
    "def examiner_deleteAll():\n",
    "    db = myclient[\"accounts\"]\n",
    "    \n",
    "    collection = db[\"examiner\"]\n",
    "    \n",
    "    if request.method == 'POST':\n",
    "        \n",
    "        db_response = collection.find({})\n",
    "        \n",
    "        teachers_doc = []\n",
    "            \n",
    "        for doc in db_response:\n",
    "            teachers_doc.append(doc)\n",
    "            \n",
    "        \n",
    "        if teachers_doc != []:\n",
    "            \n",
    "                delete_teachers = collection.delete_many({})\n",
    "   \n",
    "\n",
    "                response_string = {\"status\": \"success\",\"response\":\"All examiner records are deleted \"}\n",
    "                    \n",
    "                \n",
    "                return json.dumps(response_string, indent=4)\n",
    "          \n",
    "        else:\n",
    "                return json.dumps({\"status\": \"failed\",\"response\": \"User not found\"})"
   ]
  },
  {
   "cell_type": "markdown",
   "metadata": {},
   "source": [
    "# Student panel"
   ]
  },
  {
   "cell_type": "code",
   "execution_count": 20,
   "metadata": {},
   "outputs": [],
   "source": [
    "@app.route('/student/getAll',methods=[\"GET\", \"POST\"])\n",
    "def student_get():\n",
    "    db = myclient[\"accounts\"]\n",
    "    collection = db[\"student\"]\n",
    "    if request.method == 'POST':\n",
    "        db_response = list(collection.find({},{\"_id\":0}))\n",
    "        if db_response != None:\n",
    "            return json.dumps(db_response)\n",
    "    return json.dumps({\"status\": \"user not found\",\"response\": \"User not found\"})"
   ]
  },
  {
   "cell_type": "code",
   "execution_count": 21,
   "metadata": {},
   "outputs": [],
   "source": [
    "@app.route('/student/admin-approval',methods=[\"GET\", \"POST\"])\n",
    "def student_admin_approval():\n",
    "    db = myclient[\"accounts\"]\n",
    "    collection = db[\"student\"]\n",
    "    if request.method == 'POST':\n",
    "        db_response = list(collection.find({\"isEnrolled\":False},{\"_id\":0}))\n",
    "        if db_response != None:\n",
    "            return json.dumps(db_response)\n",
    "    return json.dumps({\"status\": \"user not found\",\"response\": \"User not found\"})"
   ]
  },
  {
   "cell_type": "code",
   "execution_count": 22,
   "metadata": {},
   "outputs": [],
   "source": [
    "@app.route('/student/approved',methods=[\"GET\", \"POST\"])\n",
    "def student_admin_approved():\n",
    "    db = myclient[\"accounts\"]\n",
    "    collection = db[\"student\"]\n",
    "    regno = request.form['regno']\n",
    "    if request.method == 'POST':\n",
    "        db_response = collection.find({\"regno\":regno},{\"_id\":0})\n",
    "        if db_response != None:\n",
    "            update_result = collection.update_one({\"regno\":regno},{\"$set\":{\"isEnrolled\":True}})\n",
    "            if update_result.acknowledged:\n",
    "                return json.dumps({\"status\": \"success\",\"response\": \"ok\"})\n",
    "            return json.dumps({\"status\": \"failed\",\"response\": \"database error\"})\n",
    "    return json.dumps({\"status\": \"user not found\",\"response\": \"User not found\"})"
   ]
  },
  {
   "cell_type": "markdown",
   "metadata": {},
   "source": [
    "# Teacher panel"
   ]
  },
  {
   "cell_type": "code",
   "execution_count": 23,
   "metadata": {},
   "outputs": [],
   "source": [
    "@app.route('/teacher/getAll',methods=[\"GET\", \"POST\"])\n",
    "def teacher_get():\n",
    "    db = myclient[\"accounts\"]\n",
    "    collection = db[\"teacher\"]\n",
    "    if request.method == 'POST':\n",
    "        db_response = list(collection.find({},{\"_id\":0}))\n",
    "        if db_response != None:\n",
    "            return json.dumps(db_response)\n",
    "    return json.dumps({\"status\": \"user not found\",\"response\": \"User not found\"})"
   ]
  },
  {
   "cell_type": "code",
   "execution_count": 24,
   "metadata": {},
   "outputs": [],
   "source": [
    "@app.route('/teacher/admin-approval',methods=[\"GET\", \"POST\"])\n",
    "def teacher_admin_approval():\n",
    "    db = myclient[\"accounts\"]\n",
    "    collection = db[\"teacher\"]\n",
    "    if request.method == 'POST':\n",
    "        db_response = list(collection.find({\"isEnrolled\":False},{\"_id\":0}))\n",
    "        if db_response != None:\n",
    "            return json.dumps(db_response)\n",
    "    return json.dumps({\"status\": \"user not found\",\"response\": \"User not found\"})"
   ]
  },
  {
   "cell_type": "code",
   "execution_count": 25,
   "metadata": {},
   "outputs": [],
   "source": [
    "@app.route('/teacher/approved',methods=[\"GET\", \"POST\"])\n",
    "def teacher_admin_approved():\n",
    "    db = myclient[\"accounts\"]\n",
    "    collection = db[\"teacher\"]\n",
    "    regId = request.form['regId']\n",
    "    if request.method == 'POST':\n",
    "        db_response = collection.find({\"regId\":regId},{\"_id\":0})\n",
    "        if db_response != None:\n",
    "            update_result = collection.update_one({\"regId\":regId},{\"$set\":{\"isEnrolled\":True}})\n",
    "            if update_result.acknowledged:\n",
    "                return json.dumps({\"status\": \"success\",\"response\": \"ok\"})\n",
    "            return json.dumps({\"status\": \"failed\",\"response\": \"database error\"})\n",
    "    return json.dumps({\"status\": \"user not found\",\"response\": \"User not found\"})"
   ]
  },
  {
   "cell_type": "markdown",
   "metadata": {},
   "source": [
    "# Examiner panel"
   ]
  },
  {
   "cell_type": "code",
   "execution_count": 26,
   "metadata": {},
   "outputs": [],
   "source": [
    "@app.route('/examiner/getAll',methods=[\"GET\", \"POST\"])\n",
    "def examiner_get():\n",
    "    db = myclient[\"accounts\"]\n",
    "    collection = db[\"examiner\"]\n",
    "    if request.method == 'POST':\n",
    "        db_response = list(collection.find({},{\"_id\":0}))\n",
    "        if db_response != None:\n",
    "            return json.dumps(db_response)\n",
    "    return json.dumps({\"status\": \"user not found\",\"response\": \"User not found\"})"
   ]
  },
  {
   "cell_type": "code",
   "execution_count": 27,
   "metadata": {},
   "outputs": [],
   "source": [
    "@app.route('/examiner/admin-approval',methods=[\"GET\", \"POST\"])\n",
    "def examiner_admin_approval():\n",
    "    db = myclient[\"accounts\"]\n",
    "    collection = db[\"examiner\"]\n",
    "    if request.method == 'POST':\n",
    "        db_response = list(collection.find({\"isRegistered\":False},{\"_id\":0}))\n",
    "        if db_response != None:\n",
    "            return json.dumps(db_response)\n",
    "    return json.dumps({\"status\": \"user not found\",\"response\": \"User not found\"})"
   ]
  },
  {
   "cell_type": "code",
   "execution_count": 28,
   "metadata": {},
   "outputs": [],
   "source": [
    "@app.route('/examiner/approved',methods=[\"GET\", \"POST\"])\n",
    "def examiner_admin_approved():\n",
    "    db = myclient[\"accounts\"]\n",
    "    collection = db[\"examiner\"]\n",
    "    examiner_id = request.form['examiner_id']\n",
    "    if request.method == 'POST':\n",
    "        db_response = collection.find({\"examiner_id\":examiner_id},{\"_id\":0})\n",
    "        if db_response != None:\n",
    "            update_result = collection.update_one({\"examiner_id\":examiner_id},{\"$set\":{\"isRegistered\":True}})\n",
    "            if update_result.acknowledged:\n",
    "                return json.dumps({\"status\": \"success\",\"response\": \"ok\"})\n",
    "            return json.dumps({\"status\": \"failed\",\"response\": \"database error\"})\n",
    "    return json.dumps({\"status\": \"user not found\",\"response\": \"User not found\"})"
   ]
  },
  {
   "cell_type": "markdown",
   "metadata": {},
   "source": [
    "# Subjects retrieval - HSC"
   ]
  },
  {
   "cell_type": "code",
   "execution_count": 29,
   "metadata": {},
   "outputs": [],
   "source": [
    "@app.route('/student/hsc',methods=[\"POST\"])\n",
    "def student_hsc():\n",
    "    db = myclient[\"Class\"]\n",
    "    collection = db[\"HSC\"]\n",
    "        \n",
    "    if request.method == 'POST':\n",
    "        group = request.form[\"subjects\"]\n",
    "        db_res = collection.find_one({},{\"_id\":0})\n",
    "        \n",
    "        if db_res != None:\n",
    "            return json.dumps({group+\"\":db_res[\"groups\"][group]})\n",
    "        \n",
    "    else:\n",
    "        return json.dumps({\"status\": \"failed\",\"response\": \"User not found\"})"
   ]
  },
  {
   "cell_type": "markdown",
   "metadata": {},
   "source": [
    "# Subjects retrieval - SSLC"
   ]
  },
  {
   "cell_type": "code",
   "execution_count": 30,
   "metadata": {},
   "outputs": [],
   "source": [
    "@app.route('/student/sslc',methods=[\"POST\"])\n",
    "def student_sslc():\n",
    "    db = myclient[\"Class\"]\n",
    "    collection = db[\"SSLC\"]\n",
    "        \n",
    "    if request.method == 'POST':\n",
    "        db_res = collection.find_one({},{\"_id\":0})\n",
    "        \n",
    "        if db_res != None:\n",
    "            return json.dumps({group+\"\":db_res[\"subjects\"]})\n",
    "        \n",
    "    else:\n",
    "        return json.dumps({\"status\": \"failed\",\"response\": \"User not found\"})"
   ]
  },
  {
   "cell_type": "markdown",
   "metadata": {},
   "source": [
    "# Confirm courses "
   ]
  },
  {
   "cell_type": "code",
   "execution_count": 31,
   "metadata": {},
   "outputs": [],
   "source": [
    "@app.route('/student/confirm-course',methods=[\"POST\"])\n",
    "def student_confirm_course():\n",
    "    db = myclient[\"accounts\"]\n",
    "    collection = db[\"student\"]\n",
    "    if request.method == 'POST':\n",
    "        course = request.json();\n",
    "        regno = course[\"regno\"]\n",
    "        std = course[\"class\"]\n",
    "        section = course[\"section\"]\n",
    "        subjects = course[\"subjects\"]\n",
    "        db_response = collection.find_one({\"regno\":regno,\"class\":std,\"section\":section},{\"_id\":0})\n",
    "        if db_response != None:\n",
    "            update_result = collection.update_one({\"_id\":ObjectId(db_response['_id'])},{\"$set\":{\"enrolledCourses\":subjects,\"isEnrolled\":True}})\n",
    "            if update_result.acknowledged:\n",
    "                return json.dumps({\"status\": \"success\",\"response\": \"ok\"})\n",
    "            return json.dumps({\"status\": \"failed\",\"response\": \"database error\"})\n",
    "        else:\n",
    "            return json.dumps({\"status\": \"failed\",\"response\": \"User not found\"})"
   ]
  },
  {
   "cell_type": "markdown",
   "metadata": {},
   "source": [
    "# Student course enrollment Web"
   ]
  },
  {
   "cell_type": "code",
   "execution_count": 32,
   "metadata": {},
   "outputs": [],
   "source": [
    "@app.route('/student/enroll-course',methods=[\"POST\"])\n",
    "def student_enroll_course():\n",
    "    db = myclient[\"Class\"]\n",
    "    collection = db[\"HSC\"]\n",
    "    sub = {}\n",
    "    if request.method == 'POST':\n",
    "        regno = request.form[\"regno\"]\n",
    "        std = request.form[\"std\"]\n",
    "        section = request.form[\"section\"]\n",
    "        group = request.form[\"group\"]\n",
    "        \n",
    "        db_res = collection.find_one({},{\"_id\":0})\n",
    "\n",
    "        if db_res != None:\n",
    "            sub = {group+\"\":db_res[\"groups\"][group]}\n",
    "            grp = {};\n",
    "            grp[\"groups\"] = sub\n",
    "            db = myclient[\"accounts\"]\n",
    "            collection = db[\"student\"]\n",
    "            db_response = collection.find_one({\"regno\":regno,\"class\":std,\"section\":section})\n",
    "            if db_response != None:\n",
    "                update_result = collection.update_one({\"_id\":ObjectId(db_response['_id'])},{\"$set\":{\"enrolledCourses\":grp,\"isEnrolled\":True}})\n",
    "                if update_result.acknowledged:\n",
    "                    return json.dumps({\"status\": \"success\",\"response\": \"ok\"})\n",
    "                return json.dumps({\"status\": \"failed\",\"response\": \"database error\"})"
   ]
  },
  {
   "cell_type": "code",
   "execution_count": 33,
   "metadata": {},
   "outputs": [],
   "source": [
    "@app.route('/student/sslc-enroll-course',methods=[\"POST\"])\n",
    "def student_sslc_enroll_course():\n",
    "    db = myclient[\"Class\"]\n",
    "    collection = db[\"SSLC\"]\n",
    "    sub = {}\n",
    "    if request.method == 'POST':\n",
    "        regno = request.form[\"regno\"]\n",
    "        \n",
    "        db_res = collection.find_one({},{\"_id\":0})\n",
    "\n",
    "        if db_res != None:\n",
    "            sub = db_res[\"subjects\"]\n",
    "            db = myclient[\"accounts\"]\n",
    "            collection = db[\"student\"]\n",
    "            db_response = collection.find_one({\"regno\":regno})\n",
    "            if db_response != None:\n",
    "                update_result = collection.update_one({\"_id\":ObjectId(db_response['_id'])},{\"$set\":{\"enrolledCourses\":sub,\"isEnrolled\":True}})\n",
    "                if update_result.acknowledged:\n",
    "                    return json.dumps({\"status\": \"success\",\"response\": \"ok\"})\n",
    "                return json.dumps({\"status\": \"failed\",\"response\": \"database error\"})"
   ]
  },
  {
   "cell_type": "code",
   "execution_count": 34,
   "metadata": {},
   "outputs": [],
   "source": [
    "@app.route('/admin-portal/admin-login',methods=[\"POST\"])\n",
    "def admin_portal_admin_login():\n",
    "    db = myclient[\"accounts\"]\n",
    "    collection = db[\"admin\"]\n",
    "    if request.method == 'POST':\n",
    "        adminId = request.form['adminId']\n",
    "        passw = request.form['password']\n",
    "        db_response = collection.find_one({\"admin_id\": adminId,\"password\":passw})\n",
    "        if db_response != None:\n",
    "            if db_response['loggedIn'] != True:\n",
    "                if passw == db_response['password']:\n",
    "                    update_result = collection.update_one({\"_id\":ObjectId(db_response['_id']),\"loggedIn\": False},{\"$set\":{\"loggedIn\":True}})\n",
    "                    if update_result.acknowledged == True and update_result.modified_count == 1:\n",
    "                        response_string = {\"status\": \"success\",\"response\":\"ok\"}\n",
    "                        \n",
    "                    else:\n",
    "                        response_string = {\"status\":\"failed\",\"response\":\"database error\"}\n",
    "                    return json.dumps(response_string, indent=4)\n",
    "                else:\n",
    "                    return json.dumps({\"status\": \"failed\",\"response\":\"wrong password\"})\n",
    "                \n",
    "            elif db_response['loggedIn'] == True:\n",
    "                response_string = {\"status\": \"successful\",\"response\":\"ok\"}\n",
    "                return json.dumps(response_string, indent=4)\n",
    "        else:\n",
    "            return json.dumps({\"status\": \"failed\",\"response\": \"User not found\"})"
   ]
  },
  {
   "cell_type": "code",
   "execution_count": 35,
   "metadata": {},
   "outputs": [],
   "source": [
    "@app.route('/admin-portal/admin-registration',methods=[\"POST\"])\n",
    "def admin_portal_admin_registration():\n",
    "#   declaration space\n",
    "    db = myclient[\"accounts\"]\n",
    "    collection = db[\"admin\"]\n",
    "    data = {}\n",
    "    response_string = {}\n",
    "    if request.method == 'POST':\n",
    "         data = {\n",
    "            \"name\": request.form['name'],\n",
    "            \"aadhar\": request.form['aadhar'],\n",
    "            \"dob\": request.form['dob'],\n",
    "            \"sex\": request.form['sex'],\n",
    "            \"admin_id\": request.form['regno'],\n",
    "            \"mobile\": request.form['mobile'],\n",
    "            \"password\": request.form['password'],\n",
    "            \"schoolname\": request.form['schoolname'],\n",
    "            \"address\": request.form['address'],\n",
    "#             \"encrypted_pwd\": encryption(request.form['password']),    \n",
    "            \"createdAt\": str(datetime.datetime.now()).split(\" \")[0], #YYYY-MM-DD\n",
    "            \"loggedIn\": False,\n",
    "            \"pincode\": request.form['pincode'] \n",
    "        }\n",
    "        \n",
    "        \n",
    "    db_check_user = collection.find_one({\"admin_id\":data[\"admin_id\"],\"aadhar\":data[\"aadhar\"]}) #check if user account exists\n",
    "\n",
    "    if not(db_check_user):\n",
    "        db_response = collection.insert_one(data)\n",
    "\n",
    "        if db_response.acknowledged == True:\n",
    "            response_string = {\"status\": \"success\",\"response\":\"ok\"}\n",
    "        else:\n",
    "            response_string = {\"status\":\"failed\",\"response\":\"database error. request not acknowledged\"}\n",
    "\n",
    "    else:\n",
    "        response_string = {\"status\": \"failed\",\"response\": \"User account already exists\"}\n",
    "\n",
    "    return json.dumps(response_string)"
   ]
  },
  {
   "cell_type": "code",
   "execution_count": 36,
   "metadata": {},
   "outputs": [],
   "source": [
    "@app.route('/admin-portal/admin-logout',methods=[\"POST\"])\n",
    "def admin_portal_admin_logout():\n",
    "    db = myclient[\"accounts\"]\n",
    "    collection = db[\"admin\"]\n",
    "    if request.method == 'POST':\n",
    "        adminId = request.form['adminId']\n",
    "        passw = request.form['password']\n",
    "        db_response = collection.find_one({\"admin_id\": adminId,\"password\":passw})\n",
    "        if db_response != None:\n",
    "            if db_response['loggedIn'] != False:\n",
    "               \n",
    "                update_result = collection.update_one({\"_id\":ObjectId(db_response['_id']),\"loggedIn\": True},{\"$set\":{\"loggedIn\":False}})\n",
    "                if update_result.acknowledged == False and update_result.modified_count == 1:\n",
    "                    response_string = {\"status\": \"logout success\",\"response\":\"ok\"}\n",
    "\n",
    "                else:\n",
    "                    response_string = {\"status\":\"failed\",\"response\":\"database error\"}\n",
    "                return json.dumps(response_string, indent=4)\n",
    "               \n",
    "            else:\n",
    "                return json.dumps({\"status\": \"failed\",\"response\": \"You are logged in on another device\"})\n",
    "        else:\n",
    "            return json.dumps({\"status\": \"failed\",\"response\": \"User not found\"})"
   ]
  },
  {
   "cell_type": "code",
   "execution_count": 37,
   "metadata": {},
   "outputs": [],
   "source": [
    "@app.route('/admin-portal/admin-reset-password',methods=[\"POST\"])\n",
    "def admin_portal_admin_reset_password():\n",
    "    db = myclient[\"accounts\"]\n",
    "    collection = db[\"admin\"]\n",
    "    if request.method == 'POST':\n",
    "        adminId = request.form['adminId']\n",
    "        aadhar = request.form['aadhar']\n",
    "        password = request.form['password']\n",
    "        db_response = collection.find_one({\"admin_id\": adminId})\n",
    "        if db_response != None:\n",
    "            if aadhar == db_response['aadhar']:\n",
    "                update_result = collection.update_one({\"_id\":ObjectId(db_response['_id'])},{\"$set\":{\"password\":password}})\n",
    "                if update_result.acknowledged:\n",
    "                    return json.dumps({\"status\": \"success\",\"response\": \"ok\"})\n",
    "                return json.dumps({\"status\": \"failed\",\"response\": \"database error\"})\n",
    "            else:\n",
    "                return json.dumps({\"status\": \"failed\",\"response\": \"aadhar didn't match\"})\n",
    "        else:\n",
    "            return json.dumps({\"status\": \"user not found\",\"response\": \"User not found\"})"
   ]
  },
  {
   "cell_type": "code",
   "execution_count": 38,
   "metadata": {},
   "outputs": [],
   "source": [
    "@app.route('/admin-portal/login')\n",
    "def form():\n",
    "    return render_template('F:/Admin dashboard/index.html')"
   ]
  },
  {
   "cell_type": "markdown",
   "metadata": {},
   "source": [
    "# Teacher Registration"
   ]
  },
  {
   "cell_type": "code",
   "execution_count": 39,
   "metadata": {},
   "outputs": [],
   "source": [
    "@app.route('/admin-portal/teacher-registration',methods=[\"POST\"])\n",
    "def admin_portal_teacher_registration():\n",
    "#   declaration space\n",
    "    db = myclient[\"accounts\"]\n",
    "    collection = db[\"teacher\"]\n",
    "    data = {}\n",
    "    response_string = {}\n",
    "    if request.method == 'POST':\n",
    "        data = {\n",
    "            \"name\": request.form['name'],\n",
    "            \"aadhar\": request.form['aadhar'],\n",
    "            \"dob\": request.form['dob'],\n",
    "            \"sex\": request.form['sex'],\n",
    "            \"regId\": request.form['regno'],\n",
    "            \"mobile\": request.form['mobile'],\n",
    "            \"password\": request.form['password'],\n",
    "            \"schoolname\": request.form['schoolname'],\n",
    "            \"address\": request.form['address'],\n",
    "            \"pincode\": request.form['pincode'],\n",
    "#             \"encrypted_pwd\": encryption(request.form['password']),    \n",
    "            \"createdAt\": str(datetime.datetime.now()).split(\" \")[0], #YYYY-MM-DD\n",
    "            \"enrolledCourses\": [],\n",
    "            \"coursePointer\": \"none\",\n",
    "            \"createdTests\": {},\n",
    "            \"isExaminer\": False,\n",
    "            \"loggedIn\": False,\n",
    "            \"pincode\": request.form['pincode'] \n",
    "        }\n",
    "        \n",
    "        db_check_user = collection.find_one({\"regId\":data[\"regId\"],\"dob\":data[\"dob\"]}) #check if user account exists\n",
    "        \n",
    "        if not(db_check_user):\n",
    "            db_response = collection.insert_one(data)\n",
    "            \n",
    "            if db_response.acknowledged == True:\n",
    "                response_string = {\"status\": \"success\",\"response\":\"ok\"}\n",
    "            else:\n",
    "                response_string = {\"status\":\"failed\",\"response\":\"database error. request not acknowledged\"}\n",
    "        \n",
    "        else:\n",
    "            response_string = {\"status\": \"failed\",\"response\": \"User account already exists\"}\n",
    "        \n",
    "    return json.dumps(response_string)"
   ]
  },
  {
   "cell_type": "markdown",
   "metadata": {},
   "source": [
    "# Teacher records - deleteAll"
   ]
  },
  {
   "cell_type": "code",
   "execution_count": 40,
   "metadata": {},
   "outputs": [],
   "source": [
    "@app.route('/admin-portal/teacher/deleteAll',methods=[\"POST\"])\n",
    "def admin_portal_teacher_deleteAll():\n",
    "    db = myclient[\"accounts\"]\n",
    "   \n",
    "    collection = db[\"teacher\"]\n",
    "   \n",
    "    if request.method == 'POST':\n",
    "       \n",
    "        db_response = collection.find({})\n",
    "       \n",
    "        teachers_doc = []\n",
    "           \n",
    "        for doc in db_response:\n",
    "            teachers_doc.append(doc)\n",
    "           \n",
    "       \n",
    "        if teachers_doc != []:\n",
    "           \n",
    "                delete_teachers = collection.delete_many({})\n",
    "   \n",
    "\n",
    "                response_string = {\"status\": \"success\",\"response\":\"Teacher Records are deleted \"}\n",
    "                   \n",
    "               \n",
    "                return json.dumps(response_string, indent=4)\n",
    "         \n",
    "        else:\n",
    "                return json.dumps({\"status\": \"failed\",\"response\": \"User not found\"})"
   ]
  },
  {
   "cell_type": "markdown",
   "metadata": {},
   "source": [
    "# Student - profile"
   ]
  },
  {
   "cell_type": "code",
   "execution_count": 41,
   "metadata": {},
   "outputs": [],
   "source": [
    "@app.route('/admin-portal/student-profile',methods=[\"GET\", \"POST\"])\n",
    "def admin_portal_view_student_profile():\n",
    "    db = myclient[\"accounts\"]\n",
    "    collection = db[\"student\"]\n",
    "    if request.method == 'POST':\n",
    "        regno = request.form['regno']\n",
    "        db_response = (collection.find_one({\"regno\":regno},{\"_id\":0}))\n",
    "        if db_response != None:\n",
    "            return json.dumps(db_response)\n",
    "    return json.dumps({\"status\": \"user not found\",\"response\": \"User not found\"})"
   ]
  },
  {
   "cell_type": "code",
   "execution_count": 42,
   "metadata": {},
   "outputs": [],
   "source": [
    "@app.route('/admin-portal/edit-student-profile',methods=[\"GET\", \"POST\"])\n",
    "def admin_portal_student_edit_profile():\n",
    "    db = myclient[\"accounts\"]\n",
    "    collection = db[\"student\"]\n",
    "    if request.method == 'POST':\n",
    "        regno = request.form['regno']\n",
    "        db_response = (collection.find_one({\"regno\":regno},{\"_id\":0}))\n",
    "        if db_response != None:\n",
    "            return json.dumps(db_response)\n",
    "    return json.dumps({\"status\": \"user not found\",\"response\": \"User not found\"})"
   ]
  },
  {
   "cell_type": "code",
   "execution_count": 43,
   "metadata": {},
   "outputs": [],
   "source": [
    "@app.route('/admin-portal/update-student-profile',methods=[\"GET\", \"POST\"])\n",
    "def admin_portal_student_update_profile():\n",
    "    db = myclient[\"accounts\"]\n",
    "    collection = db[\"student\"]\n",
    "    admin_name = ''\n",
    "    adminid = ''\n",
    "    if request.method == 'POST':\n",
    "        adminid = request.form['regno']\n",
    "        \n",
    "        admin_name = request.form['name']\n",
    "        admin_password = request.form['password']\n",
    "        admin_class =  request.form['class']\n",
    "        admin_section = request.form['section']\n",
    "        admin_aadhar =  request.form['aadhar']\n",
    "        admin_mobile = request.form['mobile']\n",
    "        admin_schoolname = request.form['schoolname']\n",
    "        admin_dob =  request.form['dob']\n",
    "        admin_gender = request.form['gender']\n",
    "        admin_address = request.form['address']\n",
    "        admin_pincode = request.form['pincode']\n",
    "        type(admin_name)\n",
    "        db_response = (collection.find_one({\"regno\":adminid}))\n",
    "        if db_response != None:\n",
    "            update_result = collection.update_one({\"_id\":ObjectId(db_response['_id'])},{\"$set\":{\"class\":admin_class,\"section\":admin_section,\"password\":admin_password,\"name\":admin_name,\"aadhar\":admin_aadhar,\"mobile\":admin_mobile,\"dob\":admin_dob,\"sex\":admin_gender,\"schoolname\":admin_schoolname,\"address\":admin_address,\"pincode\":admin_pincode}})\n",
    "            if update_result.acknowledged:\n",
    "                return json.dumps({\"status\": \"success\",\"response\": \"ok\"})\n",
    "            return json.dumps({\"status\": \"failed\",\"response\": \"database error\"})\n",
    "    return json.dumps({\"status\": \"user not found\",\"response\": \"User not found\"})"
   ]
  },
  {
   "cell_type": "markdown",
   "metadata": {},
   "source": [
    "# Teacher - profile"
   ]
  },
  {
   "cell_type": "code",
   "execution_count": 44,
   "metadata": {},
   "outputs": [],
   "source": [
    "@app.route('/admin-portal/teacher-profile',methods=[\"GET\", \"POST\"])\n",
    "def admin_portal_teacher_view_profile():\n",
    "    db = myclient[\"accounts\"]\n",
    "    collection = db[\"teacher\"]\n",
    "    if request.method == 'POST':\n",
    "        regId = request.form['regId']\n",
    "        db_response = (collection.find_one({\"regId\":regId},{\"_id\":0}))\n",
    "        if db_response != None:\n",
    "            return json.dumps(db_response)\n",
    "    return json.dumps({\"status\": \"user not found\",\"response\": \"User not found\"})"
   ]
  },
  {
   "cell_type": "code",
   "execution_count": 45,
   "metadata": {},
   "outputs": [],
   "source": [
    "@app.route('/admin-portal/edit-teacher-profile',methods=[\"GET\", \"POST\"])\n",
    "def admin_portal_teacher_edit_profile():\n",
    "    db = myclient[\"accounts\"]\n",
    "    collection = db[\"teacher\"]\n",
    "    if request.method == 'POST':\n",
    "        regId = request.form['regId']\n",
    "        db_response = (collection.find_one({\"regId\":regId},{\"_id\":0}))\n",
    "        if db_response != None:\n",
    "            return json.dumps(db_response)\n",
    "    return json.dumps({\"status\": \"user not found\",\"response\": \"User not found\"})"
   ]
  },
  {
   "cell_type": "code",
   "execution_count": 46,
   "metadata": {},
   "outputs": [],
   "source": [
    "@app.route('/admin-portal/update-teacher-profile',methods=[\"GET\", \"POST\"])\n",
    "def admin_portal_teacher_update_profile():\n",
    "    db = myclient[\"accounts\"]\n",
    "    collection = db[\"teacher\"]\n",
    "    admin_password = \"\";\n",
    "    if request.method == 'POST':\n",
    "        adminid = request.form['regId']\n",
    "        admin_name = request.form['name']\n",
    "        admin_password = request.form['password']\n",
    "        admin_aadhar =  request.form['aadhar']\n",
    "        admin_mobile = request.form['mobile']\n",
    "        admin_schoolname = request.form['schoolname']\n",
    "        admin_dob =  request.form['dob']\n",
    "        admin_gender = request.form['gender']\n",
    "        admin_address = request.form['address']\n",
    "        admin_pincode = request.form['pincode']\n",
    "        db_response = (collection.find_one({\"regId\":adminid}))\n",
    "        if db_response != None:\n",
    "            update_result = collection.update_one({\"_id\":ObjectId(db_response['_id'])},{\"$set\":{\"password\":admin_password,\"name\":admin_name,\"aadhar\":admin_aadhar,\"mobile\":admin_mobile,\"dob\":admin_dob,\"sex\":admin_gender,\"schoolname\":admin_schoolname,\"address\":admin_address,\"pincode\":admin_pincode}})\n",
    "            if update_result.acknowledged:\n",
    "                return json.dumps({\"status\": \"success\",\"response\": \"ok\"})\n",
    "            return json.dumps({\"status\": \"failed\",\"response\": \"database error\"})\n",
    "    return json.dumps({\"status\": \"user not found\",\"response\": \"User not found\"})"
   ]
  },
  {
   "cell_type": "markdown",
   "metadata": {},
   "source": [
    "# Examiner - profile"
   ]
  },
  {
   "cell_type": "code",
   "execution_count": 47,
   "metadata": {},
   "outputs": [],
   "source": [
    "@app.route('/admin-portal/examiner-profile',methods=[\"GET\", \"POST\"])\n",
    "def admin_portal_examiner_view_profile():\n",
    "    db = myclient[\"accounts\"]\n",
    "    collection = db[\"examiner\"]\n",
    "    if request.method == 'POST':\n",
    "        examinerId = request.form['examiner_id']\n",
    "        db_response = (collection.find_one({\"examiner_id\":examinerId},{\"_id\":0}))\n",
    "        if db_response != None:\n",
    "            return json.dumps(db_response)\n",
    "    return json.dumps({\"status\": \"user not found\",\"response\": \"User not found\"})"
   ]
  },
  {
   "cell_type": "code",
   "execution_count": 48,
   "metadata": {},
   "outputs": [],
   "source": [
    "@app.route('/admin-portal/edit-examiner-profile',methods=[\"GET\", \"POST\"])\n",
    "def admin_portal_examiner_edit_profile():\n",
    "    db = myclient[\"accounts\"]\n",
    "    collection = db[\"examiner\"]\n",
    "    if request.method == 'POST':\n",
    "        examinerId = request.form['examiner_id']\n",
    "        db_response = (collection.find_one({\"examiner_id\":examinerId},{\"_id\":0}))\n",
    "        if db_response != None:\n",
    "            return json.dumps(db_response)\n",
    "    return json.dumps({\"status\": \"user not found\",\"response\": \"User not found\"})"
   ]
  },
  {
   "cell_type": "code",
   "execution_count": 49,
   "metadata": {},
   "outputs": [],
   "source": [
    "@app.route('/admin-portal/update-examiner-profile',methods=[\"GET\", \"POST\"])\n",
    "def admin_portal_examiner_update_profile():\n",
    "    db = myclient[\"accounts\"]\n",
    "    collection = db[\"examiner\"]\n",
    "    admin_password = \"\";\n",
    "    if request.method == 'POST':\n",
    "        examinerid = request.form['examiner_id']\n",
    "        examiner_name = request.form['name']\n",
    "        examiner_hallno = request.form['hallno']\n",
    "        examiner_password = request.form['password']\n",
    "        examiner_aadhar =  request.form['aadhar']\n",
    "        examiner_mobile = request.form['mobile']\n",
    "        examiner_schoolname = request.form['schoolname']\n",
    "        examiner_dob =  request.form['dob']\n",
    "        examiner_gender = request.form['gender']\n",
    "        examiner_address = request.form['address']\n",
    "        examiner_pincode = request.form['pincode']\n",
    "        db_response = (collection.find_one({\"examiner_id\":examinerid}))\n",
    "        if db_response != None:\n",
    "            update_result = collection.update_one({\"_id\":ObjectId(db_response['_id'])},{\"$set\":{\"password\":examiner_password,\"hallno\":examiner_hallno,\"name\":examiner_name,\"aadhar\":examiner_aadhar,\"mobile\":examiner_mobile,\"dob\":examiner_dob,\"sex\":examiner_gender,\"schoolname\":examiner_schoolname,\"address\":examiner_address,\"pincode\":examiner_pincode}})\n",
    "            if update_result.acknowledged:\n",
    "                return json.dumps({\"status\": \"success\",\"response\": \"ok\"})\n",
    "            return json.dumps({\"status\": \"failed\",\"response\": \"database error\"})\n",
    "    return json.dumps({\"status\": \"user not found\",\"response\": \"User not found\"})"
   ]
  },
  {
   "cell_type": "markdown",
   "metadata": {},
   "source": [
    "# Teacher enrollment"
   ]
  },
  {
   "cell_type": "code",
   "execution_count": 50,
   "metadata": {},
   "outputs": [],
   "source": [
    "@app.route('/admin-portal/teacher-course-enrollment',methods=[\"POST\"])\n",
    "def admin_portal_teacher_course_enrollment():\n",
    "    db = myclient[\"accounts\"]\n",
    "    collection = db[\"teacher\"]\n",
    "    if request.method == 'POST':\n",
    "        courses = request.json[\"subjects\"]\n",
    "        regId = request.json[\"regId\"]\n",
    "        \n",
    "#         regId = json.load(request.form['courses'])[\"regId\"]\n",
    "        db_response = collection.find_one({\"regId\": regId})\n",
    "        print(regId)\n",
    "        if db_response != None:\n",
    "            update_result = collection.update_one({\"_id\":ObjectId(db_response['_id'])},{\"$set\":{\"enrolledCourses\":courses}})\n",
    "            if update_result.acknowledged:\n",
    "                return json.dumps({\"status\": \"success\",\"response\": \"ok\"})\n",
    "            return json.dumps({\"status\": \"failed\",\"response\": \"database error\"})\n",
    "        else:\n",
    "            return json.dumps({\"status\": \"user not found\",\"response\": \"User not found\"})"
   ]
  },
  {
   "cell_type": "markdown",
   "metadata": {},
   "source": [
    "# Admin - profile"
   ]
  },
  {
   "cell_type": "code",
   "execution_count": 51,
   "metadata": {},
   "outputs": [],
   "source": [
    "@app.route('/admin-portal/admin-profile',methods=[\"GET\", \"POST\"])\n",
    "def admin_portal_admin_profile():\n",
    "    db = myclient[\"accounts\"]\n",
    "    collection = db[\"admin\"]\n",
    "    if request.method == 'POST':\n",
    "        adminId = request.form['adminId']\n",
    "        db_response = (collection.find_one({\"admin_id\":adminId},{\"_id\":0}))\n",
    "        if db_response != None:\n",
    "            return json.dumps(db_response)\n",
    "    return json.dumps({\"status\": \"user not found\",\"response\": \"User not found\"})"
   ]
  },
  {
   "cell_type": "markdown",
   "metadata": {},
   "source": [
    "# Admin - Edit profile"
   ]
  },
  {
   "cell_type": "code",
   "execution_count": 52,
   "metadata": {},
   "outputs": [],
   "source": [
    "@app.route('/admin-portal/admin-edit-profile',methods=[\"GET\", \"POST\"])\n",
    "def admin_portal_admin_edit_profile():\n",
    "    db = myclient[\"accounts\"]\n",
    "    collection = db[\"admin\"]\n",
    "    if request.method == 'POST':\n",
    "        adminId = request.form['adminId']\n",
    "        db_response = (collection.find_one({\"admin_id\":adminId},{\"_id\":0}))\n",
    "        if db_response != None:\n",
    "            return json.dumps(db_response)\n",
    "    return json.dumps({\"status\": \"user not found\",\"response\": \"User not found\"})"
   ]
  },
  {
   "cell_type": "markdown",
   "metadata": {},
   "source": [
    "# Admin - Update Profile"
   ]
  },
  {
   "cell_type": "code",
   "execution_count": 53,
   "metadata": {},
   "outputs": [],
   "source": [
    "@app.route('/admin-portal/admin-update-profile',methods=[\"GET\", \"POST\"])\n",
    "def admin_portal_admin_update_profile():\n",
    "    db = myclient[\"accounts\"]\n",
    "    collection = db[\"admin\"]\n",
    "    if request.method == 'POST':\n",
    "        adminid = request.form['admin_id']\n",
    "        admin_name = request.form['name']\n",
    "        admin_password = request.form['password']\n",
    "        admin_aadhar =  request.form['aadhar']\n",
    "        admin_mobile = request.form['mobile']\n",
    "        admin_schoolname = request.form['schoolname']\n",
    "        admin_dob =  request.form['dob']\n",
    "        admin_gender = request.form['gender']  \n",
    "        admin_address = request.form['address']        \n",
    "        admin_pincode = request.form['pincode']\n",
    "        db_response = (collection.find_one({\"admin_id\":adminid}))\n",
    "        if db_response != None:\n",
    "            update_result = collection.update_one({\"_id\":ObjectId(db_response['_id'])},{\"$set\":{\"password\":admin_password,\"name\":admin_name,\"aadhar\":admin_aadhar,\"mobile\":admin_mobile,\"dob\":admin_dob,\"sex\":admin_gender,\"schoolname\":admin_schoolname,\"address\":admin_address,\"pincode\":admin_pincode}})\n",
    "            if update_result.acknowledged:\n",
    "                return json.dumps({\"status\": \"success\",\"response\": \"ok\"})\n",
    "            return json.dumps({\"status\": \"failed\",\"response\": \"database error\"})\n",
    "    return json.dumps({\"status\": \"user not found\",\"response\": \"User not found\"})"
   ]
  },
  {
   "cell_type": "markdown",
   "metadata": {},
   "source": [
    "# Update content details"
   ]
  },
  {
   "cell_type": "code",
   "execution_count": 54,
   "metadata": {},
   "outputs": [],
   "source": [
    "@app.route('/update/fileDetails',methods=[\"POST\"])\n",
    "def update_fileDetails():\n",
    "#   declaration space\n",
    "    db = myclient[\"Class\"]\n",
    "    collection = db[\"contents\"]\n",
    "    data = {\n",
    "        \"regId\" : request.form[\"regId\"],\n",
    "        \"createdAt\" : request.form[\"created_at\"],\n",
    "        \"filename\" : request.form[\"file_name\"],\n",
    "        \"class\" : request.form[\"class\"],\n",
    "        \"section\" : request.form[\"section\"],\n",
    "        \"schoolname\" : request.form[\"schoolname\"]\n",
    "    }\n",
    "    \n",
    "    print(request.form[\"schoolname\"])\n",
    "    response_string = {}\n",
    "    if request.method == 'POST':\n",
    "        db_response = collection.insert_one(data)\n",
    "\n",
    "        if db_response.acknowledged == True:\n",
    "            response_string = {\"status\": \"success\",\"response\":\"ok\"}\n",
    "        else:\n",
    "            response_string = {\"status\":\"failed\",\"response\":\"database error. request not acknowledged\"}\n",
    "    return json.dumps(response_string)"
   ]
  },
  {
   "cell_type": "markdown",
   "metadata": {},
   "source": [
    "# Get All uploaded file information"
   ]
  },
  {
   "cell_type": "code",
   "execution_count": 55,
   "metadata": {},
   "outputs": [],
   "source": [
    "@app.route('/filesData/getAll',methods=[\"GET\", \"POST\"])\n",
    "def files_get():\n",
    "    db = myclient[\"Class\"]\n",
    "    collection = db[\"contents\"]\n",
    "    if request.method == 'POST':\n",
    "        db_response = list(collection.find({},{\"_id\":0}))\n",
    "        if db_response != None:\n",
    "            return json.dumps(db_response)\n",
    "    return json.dumps({\"status\": \"user not found\",\"response\": \"User not found\"})"
   ]
  },
  {
   "cell_type": "markdown",
   "metadata": {},
   "source": [
    "# Post Assignment"
   ]
  },
  {
   "cell_type": "code",
   "execution_count": 56,
   "metadata": {},
   "outputs": [],
   "source": [
    "@app.route('/teacher/post-assignments',methods=[\"POST\"])\n",
    "def insert_assignments():\n",
    "#   declaration space\n",
    "    db = myclient[\"Class\"]\n",
    "    collection = db[\"assignments\"]\n",
    "    response_string = {}\n",
    "    if request.method == 'POST':\n",
    "        incoming_data = json.loads(request.form['name'])\n",
    "        insert_response = collection.insert_one(incoming_data)\n",
    "        if insert_response.acknowledged == True:\n",
    "            response_string = {\"status\": \"success\",\"response\":\"ok\"}\n",
    "        else:\n",
    "            response_string = {\"status\":\"failed\",\"response\":\"database error. request not acknowledged\"}\n",
    "    return make_response(jsonify(response_string),200)"
   ]
  },
  {
   "cell_type": "code",
   "execution_count": 57,
   "metadata": {},
   "outputs": [],
   "source": [
    "@app.route('/teacher/sslc-course-enrollment',methods=[\"POST\"])\n",
    "def teacher_sslc_course_enrollment():\n",
    "    db = myclient[\"accounts\"]\n",
    "    collection = db[\"teacher\"]\n",
    "    if request.method == 'POST':\n",
    "        sub = json.loads(request.form['name'])\n",
    "        regId = sub['regId']\n",
    "        std = sub['std']\n",
    "        sec = sub['sec']\n",
    "        subjects = sub['subjects']\n",
    "        db_response = collection.find_one({\"regId\":regId})\n",
    "        courses = db_response['enrolledCourses']\n",
    "        \n",
    "        \n",
    "        if db_response != None:\n",
    "            courses[std][sec] = subjects\n",
    "            update_result = collection.update_one({\"_id\":ObjectId(db_response['_id'])},{\"$set\":{\"enrolledCourses\":courses}})\n",
    "            if update_result.acknowledged:\n",
    "                return json.dumps({\"status\": \"success\",\"response\": \"ok\"})\n",
    "            return json.dumps({\"status\": \"failed\",\"response\": \"database error\"})\n",
    "        else:\n",
    "            response_string = {\"status\":\"failed\",\"response\":\"database error. request not acknowledged\"}\n",
    "    return make_response(jsonify(response_string),200)"
   ]
  },
  {
   "cell_type": "markdown",
   "metadata": {},
   "source": [
    "# Mark Attendance"
   ]
  },
  {
   "cell_type": "code",
   "execution_count": 58,
   "metadata": {},
   "outputs": [],
   "source": [
    "@app.route('/student/mark-attendance',methods=[\"POST\"])\n",
    "def student_attendance():\n",
    "    db = myclient[\"accounts\"]\n",
    "    collection = db[\"student\"]\n",
    "    if request.method == 'POST':\n",
    "        regno = request.form['regno']\n",
    "        isAttended = request.form['isAttended']\n",
    "        db_response = collection.find_one({\"regno\": regno})\n",
    "        if db_response != None:\n",
    "            update_result = collection.update_one({\"_id\":ObjectId(db_response['_id'])},{\"$set\":{\"isAttended\":isAttended}})\n",
    "            if update_result.acknowledged:\n",
    "                return json.dumps({\"status\": \"success\",\"response\": \"ok\"})\n",
    "            return json.dumps({\"status\": \"failed\",\"response\": \"database error\"})\n",
    "        else:\n",
    "            return json.dumps({\"status\": \"user not found\",\"response\": \"User not found\"})"
   ]
  },
  {
   "cell_type": "markdown",
   "metadata": {},
   "source": [
    "# File uploading"
   ]
  },
  {
   "cell_type": "code",
   "execution_count": 59,
   "metadata": {},
   "outputs": [],
   "source": [
    "@app.route('/assignment/uploads', methods=['GET', 'POST'])\n",
    "def upload_file():\n",
    "    if request.method == 'POST':\n",
    "        f = request.files['file']\n",
    "        filename = f.filename\n",
    "        \n",
    "        if filename != '':\n",
    "            file_ext = os.path.splitext(filename)[1]\n",
    "            if file_ext not in app.config['UPLOAD_EXTENSIONS']:\n",
    "                return json.dumps({\"status\": \"failed\",\"response\": \"File Type not accepted\"})\n",
    "        else:\n",
    "            return json.dumps({\"status\": \"failed\",\"response\": \"No file contents\"})\n",
    "        \n",
    "        f.save(os.path.join(app.config['UPLOAD_FOLDER'], filename))\n",
    "        \n",
    "        return json.dumps({\"status\": \"success\",\"response\": \"uploaded successfully\", \"data\": parse_text(UPLOAD_FOLDER+'/'+filename)})\n",
    "    \n",
    "    return json.dumps({\"status\": \"failed\",\"response\": \"Permission Denied\"})"
   ]
  },
  {
   "cell_type": "code",
   "execution_count": 60,
   "metadata": {},
   "outputs": [],
   "source": [
    "import tika\n",
    "import re\n",
    "from tika import parser\n",
    "from pdfrw import PdfReader\n",
    "import pymongo\n",
    "import operator\n",
    "import json\n",
    "\n",
    "def parse_text(filename):\n",
    "    parsed_pdf = parser.from_file(filename)\n",
    "    text = parsed_pdf['content']\n",
    "    \n",
    "    url_pattern = re.compile(r'https?://\\S+|www\\.\\S+')\n",
    "    text = url_pattern.sub(r'', text)\n",
    "    \n",
    "    text = text.strip() \n",
    "    \n",
    "    #to remove unnecessary breaklines\n",
    "    text = re.sub(r'(?<!\\n)\\n(?![\\n\\t])', ' ', text.replace('\\r', ''))\n",
    "    print(text)\n",
    "    return text"
   ]
  },
  {
   "cell_type": "markdown",
   "metadata": {},
   "source": [
    "# Examination - Time Table"
   ]
  },
  {
   "cell_type": "code",
   "execution_count": 61,
   "metadata": {},
   "outputs": [],
   "source": [
    "@app.route('/exam/time-table',methods=[\"POST\"])\n",
    "def insert_timetable():\n",
    "    db = myclient[\"Class\"]\n",
    "    collection = db[\"exam - time table\"]\n",
    "    response_string = {}\n",
    "    if request.method == 'POST':\n",
    "        incoming_data = json.loads(request.form['name'])\n",
    "        existing_data = collection.find_one({\"user\": incoming_data['user'],\"schoolname\": incoming_data['schoolname'],\"exam-name\": incoming_data['exam-name'],\"class\": incoming_data['class']},{\"_id\": 0})\n",
    "       \n",
    "        if existing_data != None:\n",
    "            if(incoming_data[\"schoolname\"] == existing_data[\"schoolname\"] and incoming_data[\"exam-name\"] == existing_data[\"exam-name\"] and incoming_data[\"class\"] == existing_data[\"class\"]):\n",
    "                collection.delete_many(existing_data)\n",
    "                collection.insert_one(incoming_data)\n",
    "                response_string = {\"status\": \"successful\",\"response\":\"updated\"}\n",
    "            else:\n",
    "                insert_response = collection.insert_one(incoming_data)\n",
    "                if insert_response.acknowledged == True:\n",
    "                    response_string = {\"status\": \"success\",\"response\":\"ok\"}\n",
    "                else:\n",
    "                    response_string = {\"status\":\"failed\",\"response\":\"database error. request not acknowledged\"}\n",
    "\n",
    "        else:\n",
    "            insert_response = collection.insert_one(incoming_data)\n",
    "            if insert_response.acknowledged == True:\n",
    "                response_string = {\"status\": \"success\",\"response\":\"inserted\"}\n",
    "            else:\n",
    "                response_string = {\"status\":\"failed\",\"response\":\"database error. request not acknowledged\"}\n",
    "           \n",
    "    return make_response(jsonify(response_string),200)\n"
   ]
  },
  {
   "cell_type": "markdown",
   "metadata": {},
   "source": [
    "# Get Exam Time Table"
   ]
  },
  {
   "cell_type": "code",
   "execution_count": 62,
   "metadata": {},
   "outputs": [],
   "source": [
    "@app.route('/exam-time-table/getAll',methods=[\"GET\", \"POST\"])\n",
    "def exam_time_table_getAll():\n",
    "    db = myclient[\"Class\"]\n",
    "    collection = db[\"exam - time table\"]\n",
    "    if request.method == 'POST':\n",
    "        db_response = list(collection.find({},{\"_id\":0}))\n",
    "        if db_response != None:\n",
    "            return json.dumps(db_response)\n",
    "    return json.dumps({\"status\": \"Time table not found\",\"response\": \"Time table not found\"})"
   ]
  },
  {
   "cell_type": "markdown",
   "metadata": {},
   "source": [
    "# Teacher - class time table"
   ]
  },
  {
   "cell_type": "code",
   "execution_count": 63,
   "metadata": {},
   "outputs": [],
   "source": [
    "@app.route('/teacher/class-time-table',methods=[\"POST\"])\n",
    "def teacher_class_time_table():\n",
    "    db = myclient[\"Class\"]\n",
    "    collection = db[\"teacher - time table\"]\n",
    "    response_string = {}\n",
    "    if request.method == 'POST':\n",
    "        incoming_data = json.loads(request.form['name'])\n",
    "        existing_data = collection.find_one({\"user\": incoming_data['user'],\"schoolname\": incoming_data['schoolname']},{\"_id\": 0})\n",
    "       \n",
    "        if existing_data != None:\n",
    "            if(incoming_data[\"schoolname\"] == existing_data[\"schoolname\"]):\n",
    "                collection.delete_many(existing_data)\n",
    "                collection.insert_one(incoming_data)\n",
    "                response_string = {\"status\": \"successful\",\"response\":\"updated\"}\n",
    "            else:\n",
    "                insert_response = collection.insert_one(incoming_data)\n",
    "                if insert_response.acknowledged == True:\n",
    "                    response_string = {\"status\": \"success\",\"response\":\"ok\"}\n",
    "                else:\n",
    "                    response_string = {\"status\":\"failed\",\"response\":\"database error. request not acknowledged\"}\n",
    "\n",
    "        else:\n",
    "            insert_response = collection.insert_one(incoming_data)\n",
    "            if insert_response.acknowledged == True:\n",
    "                response_string = {\"status\": \"success\",\"response\":\"inserted\"}\n",
    "            else:\n",
    "                response_string = {\"status\":\"failed\",\"response\":\"database error. request not acknowledged\"}\n",
    "           \n",
    "    return make_response(jsonify(response_string),200)\n"
   ]
  },
  {
   "cell_type": "markdown",
   "metadata": {},
   "source": [
    "# Get Teacher time tables"
   ]
  },
  {
   "cell_type": "code",
   "execution_count": 64,
   "metadata": {},
   "outputs": [],
   "source": [
    "@app.route('/teacher-time-table/getAll',methods=[\"GET\", \"POST\"])\n",
    "def teacher_time_table_getAll():\n",
    "    db = myclient[\"Class\"]\n",
    "    collection = db[\"teacher - time table\"]\n",
    "    if request.method == 'POST':\n",
    "        db_response = list(collection.find({},{\"_id\":0}))\n",
    "        if db_response != None:\n",
    "            return json.dumps(db_response)\n",
    "    return json.dumps({\"status\": \"Time table not found\",\"response\": \"Time table not found\"})"
   ]
  },
  {
   "cell_type": "markdown",
   "metadata": {},
   "source": [
    "# Student - class time table"
   ]
  },
  {
   "cell_type": "code",
   "execution_count": 65,
   "metadata": {},
   "outputs": [],
   "source": [
    "@app.route('/student/class-time-table',methods=[\"POST\"])\n",
    "def student_class_time_table():\n",
    "    db = myclient[\"Class\"]\n",
    "    collection = db[\"student - time table\"]\n",
    "    response_string = {}\n",
    "    if request.method == 'POST':\n",
    "        incoming_data = json.loads(request.form['name'])\n",
    "        existing_data = collection.find_one({\"user\": incoming_data['user'],\"schoolname\": incoming_data['schoolname'],\"class\": incoming_data['class'],\"section\": incoming_data['section']},{\"_id\": 0})\n",
    "       \n",
    "        if existing_data != None:\n",
    "            if(incoming_data[\"schoolname\"] == existing_data[\"schoolname\"] and incoming_data[\"class\"] == existing_data['class'] and incoming_data[\"section\"] == existing_data['section']):\n",
    "                collection.delete_many(existing_data)\n",
    "                collection.insert_one(incoming_data)\n",
    "                response_string = {\"status\": \"successful\",\"response\":\"updated\"}\n",
    "            else:\n",
    "                insert_response = collection.insert_one(incoming_data)\n",
    "                if insert_response.acknowledged == True:\n",
    "                    response_string = {\"status\": \"success\",\"response\":\"ok\"}\n",
    "                else:\n",
    "                    response_string = {\"status\":\"failed\",\"response\":\"database error. request not acknowledged\"}\n",
    "\n",
    "        else:\n",
    "            insert_response = collection.insert_one(incoming_data)\n",
    "            if insert_response.acknowledged == True:\n",
    "                response_string = {\"status\": \"success\",\"response\":\"inserted\"}\n",
    "            else:\n",
    "                response_string = {\"status\":\"failed\",\"response\":\"database error. request not acknowledged\"}\n",
    "           \n",
    "    return make_response(jsonify(response_string),200)\n"
   ]
  },
  {
   "cell_type": "markdown",
   "metadata": {},
   "source": [
    "# Get All Student Time Table"
   ]
  },
  {
   "cell_type": "code",
   "execution_count": 66,
   "metadata": {},
   "outputs": [],
   "source": [
    "@app.route('/student-time-table/getAll',methods=[\"GET\", \"POST\"])\n",
    "def student_time_table_getAll():\n",
    "    db = myclient[\"Class\"]\n",
    "    collection = db[\"student - time table\"]\n",
    "    if request.method == 'POST':\n",
    "        db_response = list(collection.find({},{\"_id\":0}))\n",
    "        if db_response != None:\n",
    "            return json.dumps(db_response)\n",
    "    return json.dumps({\"status\": \"Time table not found\",\"response\": \"Time table not found\"})"
   ]
  },
  {
   "cell_type": "markdown",
   "metadata": {},
   "source": [
    "# Notifications"
   ]
  },
  {
   "cell_type": "code",
   "execution_count": 67,
   "metadata": {},
   "outputs": [],
   "source": [
    "@app.route('/notifications',methods=[\"POST\"])\n",
    "def notifications():\n",
    "    db = myclient[\"Class\"]\n",
    "    collection = db[\"notifications\"]\n",
    "    if request.method == 'POST':\n",
    "        posted_time = request.form['posted-time']\n",
    "        posted_date = request.form['posted-date']\n",
    "        schoolname = request.form['schoolname']\n",
    "        exam_name = request.form['exam-name']\n",
    "        admin_id = request.form['admin-id']\n",
    "        notification = request.form['notification']\n",
    "        insert_result = collection.insert_one({\"admin-id\": admin_id,\"schoolname\": schoolname,\"exam-name\": exam_name,\"notification\":notification,\"posted-date\": posted_date,\"posted-time\":posted_time},{\"_id\": 0})\n",
    "        if insert_result.acknowledged == True:\n",
    "            return json.dumps({\"status\": \"successfully notified\",\"response\": \"ok\"})\n",
    "        return json.dumps({\"status\": \"failed\",\"response\": \"database error\"})"
   ]
  },
  {
   "cell_type": "markdown",
   "metadata": {},
   "source": [
    "# Get All Notifications"
   ]
  },
  {
   "cell_type": "code",
   "execution_count": 68,
   "metadata": {},
   "outputs": [],
   "source": [
    "@app.route('/notifications/getAll',methods=[\"GET\", \"POST\"])\n",
    "def notifications_getAll():\n",
    "    db = myclient[\"Class\"]\n",
    "    collection = db[\"notifications\"]\n",
    "    if request.method == 'POST':\n",
    "        db_response = list(collection.find({},{\"_id\":0}))\n",
    "        if db_response != None:\n",
    "            return json.dumps(db_response)\n",
    "    return json.dumps({\"status\": \"No notifications\",\"response\": \"No notifications found\"})"
   ]
  },
  {
   "cell_type": "markdown",
   "metadata": {},
   "source": [
    "# Starting the server"
   ]
  },
  {
   "cell_type": "code",
   "execution_count": null,
   "metadata": {},
   "outputs": [
    {
     "name": "stdout",
     "output_type": "stream",
     "text": [
      " * Serving Flask app \"__main__\" (lazy loading)\n",
      " * Environment: production\n",
      "   WARNING: This is a development server. Do not use it in a production deployment.\n",
      "   Use a production WSGI server instead.\n",
      " * Debug mode: off\n"
     ]
    },
    {
     "name": "stderr",
     "output_type": "stream",
     "text": [
      " * Running on http://127.0.0.1:5487/ (Press CTRL+C to quit)\n",
      "127.0.0.1 - - [27/Aug/2021 11:01:46] \"\u001b[31m\u001b[1mPOST /admin-portal/admin-registration HTTP/1.1\u001b[0m\" 400 -\n"
     ]
    }
   ],
   "source": [
    "if __name__ == '__main__':\n",
    "    app.run(\"127.0.0.1\",5487)"
   ]
  },
  {
   "cell_type": "markdown",
   "metadata": {},
   "source": [
    "# Mongo Files"
   ]
  },
  {
   "cell_type": "code",
   "execution_count": null,
   "metadata": {},
   "outputs": [],
   "source": []
  },
  {
   "cell_type": "code",
   "execution_count": null,
   "metadata": {},
   "outputs": [],
   "source": [
    "fs = GridFS(MongoClient().testgrid)"
   ]
  },
  {
   "cell_type": "code",
   "execution_count": null,
   "metadata": {},
   "outputs": [],
   "source": []
  }
 ],
 "metadata": {
  "kernelspec": {
   "display_name": "Python 3",
   "language": "python",
   "name": "python3"
  },
  "language_info": {
   "codemirror_mode": {
    "name": "ipython",
    "version": 3
   },
   "file_extension": ".py",
   "mimetype": "text/x-python",
   "name": "python",
   "nbconvert_exporter": "python",
   "pygments_lexer": "ipython3",
   "version": "3.7.9"
  }
 },
 "nbformat": 4,
 "nbformat_minor": 2
}
